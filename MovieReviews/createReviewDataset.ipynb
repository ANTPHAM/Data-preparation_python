{
 "cells": [
  {
   "cell_type": "markdown",
   "metadata": {},
   "source": [
    "   #     Data Set  Preparation "
   ]
  },
  {
   "cell_type": "markdown",
   "metadata": {},
   "source": [
    "L'utilisation de ce script va nous permettre de récupérer les textes se trouvant dans de nombreaux fichiers \" .txt\" et de les mettre sous forme d'un \"data frame\".\n",
    "\n",
    "Un fichier \".csv\" sera ensuite exporté , contenant des données \"propres\", exploitable comme inputs dans un futur travail de modélisation.\n",
    "\n",
    "La data utilisé dans cet exemple est de l'origine la base de données \" Large Movie Review Dataset v1.0\" . La source et plu de détail de cette base de données se trouvent dans lien suivant: \n",
    "\n",
    "http://ai.stanford.edu/~amaas/data/sentiment/\n",
    "\n",
    "L'objectif principal de ce travail étant création d'une méthode destinée à la préparation de données, nous n'allons utiliser  dans cet exemple qu'un extrait de la data d'origine ( 750/25000 observations de la test set)."
   ]
  },
  {
   "cell_type": "code",
   "execution_count": 1,
   "metadata": {},
   "outputs": [],
   "source": [
    "import os\n",
    "import pandas as pd\n",
    "pd.set_option('display.width', 3000)"
   ]
  },
  {
   "cell_type": "code",
   "execution_count": 2,
   "metadata": {},
   "outputs": [
    {
     "name": "stdout",
     "output_type": "stream",
     "text": [
      "E:\\data\\movie_reviews2git\\reviews\n"
     ]
    }
   ],
   "source": [
    "# indiquer le chemin du répertoire où les documents se trouvent, par exemple:\n",
    "%cd E:\\data\\movie_reviews2git\\reviews"
   ]
  },
  {
   "cell_type": "code",
   "execution_count": 3,
   "metadata": {},
   "outputs": [
    {
     "data": {
      "text/plain": [
       "'E:\\\\data\\\\movie_reviews2git\\\\reviews'"
      ]
     },
     "execution_count": 3,
     "metadata": {},
     "output_type": "execute_result"
    }
   ],
   "source": [
    "# vérifier si on est dans le bon répertoire\n",
    "%pwd"
   ]
  },
  {
   "cell_type": "markdown",
   "metadata": {},
   "source": [
    "Voici le code à exécuter pour collecter les données stockés dans des différents fichiers textex et les mettre sous forme d'un Data Frame"
   ]
  },
  {
   "cell_type": "code",
   "execution_count": 4,
   "metadata": {},
   "outputs": [],
   "source": [
    "csv_header = \"Commentaires\" # nommer la colonne qui contiendra les commentaires\n",
    "csv_out = 'data.csv'# créer un fichier csv vide pour y ajouter les commentaires ainsi que les notes correspondantes\n",
    "\n",
    "csv_dir = os.getcwd()\n",
    "dir_tree = os.walk(csv_dir)\n",
    "for dirpath, dirnames, filenames in dir_tree:\n",
    "    pass\n",
    "\n",
    "csv_list = []\n",
    "\n",
    "for file in filenames:\n",
    "    if file.endswith('.txt'):\n",
    "        csv_list.append(file)\n",
    "csv_label=[float(csv_list[i][-5:-4]) for i in range(len(csv_list))]\n",
    "csv_merge = open(csv_out, 'w',encoding=\"utf-8\")# need putting utf-8\n",
    "csv_merge.write(csv_header)\n",
    "csv_merge.write('\\n')\n",
    "\n",
    "for file in csv_list:\n",
    "    csv_in = open(file,encoding=\"utf-8\")\n",
    "    for line in csv_in:\n",
    "        if line.startswith(csv_header):\n",
    "            continue\n",
    "        csv_merge.write(line)\n",
    "        csv_merge.write('\\n')\n",
    "csv_in.close()\n",
    "csv_merge.close()"
   ]
  },
  {
   "cell_type": "code",
   "execution_count": 5,
   "metadata": {},
   "outputs": [],
   "source": [
    "# créer un dataframe ayant 2 colonnes: \"Commentaire\" et \"Note\"\n",
    "reviews=pd.read_csv('data.csv', sep='\\n')\n",
    "note=pd.DataFrame(csv_label, columns=['Note'])\n",
    "data=pd.concat([reviews,note], axis=1)"
   ]
  },
  {
   "cell_type": "code",
   "execution_count": 6,
   "metadata": {
    "scrolled": true
   },
   "outputs": [
    {
     "data": {
      "text/html": [
       "<div>\n",
       "<style scoped>\n",
       "    .dataframe tbody tr th:only-of-type {\n",
       "        vertical-align: middle;\n",
       "    }\n",
       "\n",
       "    .dataframe tbody tr th {\n",
       "        vertical-align: top;\n",
       "    }\n",
       "\n",
       "    .dataframe thead th {\n",
       "        text-align: right;\n",
       "    }\n",
       "</style>\n",
       "<table border=\"1\" class=\"dataframe\">\n",
       "  <thead>\n",
       "    <tr style=\"text-align: right;\">\n",
       "      <th></th>\n",
       "      <th>Commentaires</th>\n",
       "      <th>Note</th>\n",
       "    </tr>\n",
       "  </thead>\n",
       "  <tbody>\n",
       "    <tr>\n",
       "      <th>0</th>\n",
       "      <td>I went and saw this movie last night after bei...</td>\n",
       "      <td>0.0</td>\n",
       "    </tr>\n",
       "    <tr>\n",
       "      <th>1</th>\n",
       "      <td>The finest short I've ever seen. Some commenta...</td>\n",
       "      <td>0.0</td>\n",
       "    </tr>\n",
       "    <tr>\n",
       "      <th>2</th>\n",
       "      <td>I was looking forward to this movie. Trustwort...</td>\n",
       "      <td>4.0</td>\n",
       "    </tr>\n",
       "    <tr>\n",
       "      <th>3</th>\n",
       "      <td>I gave this a 3 out of a possible 10 stars.&lt;br...</td>\n",
       "      <td>3.0</td>\n",
       "    </tr>\n",
       "    <tr>\n",
       "      <th>4</th>\n",
       "      <td>This is a very, very odd film...one that is so...</td>\n",
       "      <td>9.0</td>\n",
       "    </tr>\n",
       "  </tbody>\n",
       "</table>\n",
       "</div>"
      ],
      "text/plain": [
       "                                        Commentaires  Note\n",
       "0  I went and saw this movie last night after bei...   0.0\n",
       "1  The finest short I've ever seen. Some commenta...   0.0\n",
       "2  I was looking forward to this movie. Trustwort...   4.0\n",
       "3  I gave this a 3 out of a possible 10 stars.<br...   3.0\n",
       "4  This is a very, very odd film...one that is so...   9.0"
      ]
     },
     "execution_count": 6,
     "metadata": {},
     "output_type": "execute_result"
    }
   ],
   "source": [
    "# Voir a quoi ressemble le data frame que l'on vient d'obtenir\n",
    "data.head()"
   ]
  },
  {
   "cell_type": "code",
   "execution_count": 7,
   "metadata": {},
   "outputs": [
    {
     "data": {
      "text/plain": [
       "(750, 2)"
      ]
     },
     "execution_count": 7,
     "metadata": {},
     "output_type": "execute_result"
    }
   ],
   "source": [
    "data.shape"
   ]
  },
  {
   "cell_type": "code",
   "execution_count": 8,
   "metadata": {},
   "outputs": [],
   "source": [
    "data.to_csv(\"test_set.csv\", sep=\",\", index=False)"
   ]
  },
  {
   "cell_type": "code",
   "execution_count": 9,
   "metadata": {},
   "outputs": [],
   "source": [
    "m=pd.read_csv(\"test_set.csv\", sep=\",\")"
   ]
  },
  {
   "cell_type": "code",
   "execution_count": 10,
   "metadata": {},
   "outputs": [
    {
     "data": {
      "text/html": [
       "<div>\n",
       "<style scoped>\n",
       "    .dataframe tbody tr th:only-of-type {\n",
       "        vertical-align: middle;\n",
       "    }\n",
       "\n",
       "    .dataframe tbody tr th {\n",
       "        vertical-align: top;\n",
       "    }\n",
       "\n",
       "    .dataframe thead th {\n",
       "        text-align: right;\n",
       "    }\n",
       "</style>\n",
       "<table border=\"1\" class=\"dataframe\">\n",
       "  <thead>\n",
       "    <tr style=\"text-align: right;\">\n",
       "      <th></th>\n",
       "      <th>Commentaires</th>\n",
       "      <th>Note</th>\n",
       "    </tr>\n",
       "  </thead>\n",
       "  <tbody>\n",
       "    <tr>\n",
       "      <th>0</th>\n",
       "      <td>I went and saw this movie last night after bei...</td>\n",
       "      <td>0.0</td>\n",
       "    </tr>\n",
       "    <tr>\n",
       "      <th>1</th>\n",
       "      <td>The finest short I've ever seen. Some commenta...</td>\n",
       "      <td>0.0</td>\n",
       "    </tr>\n",
       "    <tr>\n",
       "      <th>2</th>\n",
       "      <td>I was looking forward to this movie. Trustwort...</td>\n",
       "      <td>4.0</td>\n",
       "    </tr>\n",
       "    <tr>\n",
       "      <th>3</th>\n",
       "      <td>I gave this a 3 out of a possible 10 stars.&lt;br...</td>\n",
       "      <td>3.0</td>\n",
       "    </tr>\n",
       "    <tr>\n",
       "      <th>4</th>\n",
       "      <td>This is a very, very odd film...one that is so...</td>\n",
       "      <td>9.0</td>\n",
       "    </tr>\n",
       "    <tr>\n",
       "      <th>5</th>\n",
       "      <td>I of course saw the previews for this at the b...</td>\n",
       "      <td>4.0</td>\n",
       "    </tr>\n",
       "    <tr>\n",
       "      <th>6</th>\n",
       "      <td>Although Bullet In The Brain is, without quest...</td>\n",
       "      <td>8.0</td>\n",
       "    </tr>\n",
       "    <tr>\n",
       "      <th>7</th>\n",
       "      <td>...means \"take up and read\", which is precisel...</td>\n",
       "      <td>0.0</td>\n",
       "    </tr>\n",
       "    <tr>\n",
       "      <th>8</th>\n",
       "      <td>too bad this movie isn't. While \"Nemesis Game\"...</td>\n",
       "      <td>3.0</td>\n",
       "    </tr>\n",
       "    <tr>\n",
       "      <th>9</th>\n",
       "      <td>This movie had a very unique effect on me: it ...</td>\n",
       "      <td>1.0</td>\n",
       "    </tr>\n",
       "  </tbody>\n",
       "</table>\n",
       "</div>"
      ],
      "text/plain": [
       "                                        Commentaires  Note\n",
       "0  I went and saw this movie last night after bei...   0.0\n",
       "1  The finest short I've ever seen. Some commenta...   0.0\n",
       "2  I was looking forward to this movie. Trustwort...   4.0\n",
       "3  I gave this a 3 out of a possible 10 stars.<br...   3.0\n",
       "4  This is a very, very odd film...one that is so...   9.0\n",
       "5  I of course saw the previews for this at the b...   4.0\n",
       "6  Although Bullet In The Brain is, without quest...   8.0\n",
       "7  ...means \"take up and read\", which is precisel...   0.0\n",
       "8  too bad this movie isn't. While \"Nemesis Game\"...   3.0\n",
       "9  This movie had a very unique effect on me: it ...   1.0"
      ]
     },
     "execution_count": 10,
     "metadata": {},
     "output_type": "execute_result"
    }
   ],
   "source": [
    "m.head(10)"
   ]
  },
  {
   "cell_type": "markdown",
   "metadata": {},
   "source": [
    "Nous avons donc obetnu un data frame qui contient:\n",
    "\n",
    "- Chaque ligne correspond à un fichier \".txt\" d'origine'\n",
    "\n",
    "- La colonne \" Commentaires\" contient le commentaire stocké dans le ficchier \".txt\" en question, la colonne \" Note\" représente la note correspondant à ce commentaire."
   ]
  }
 ],
 "metadata": {
  "kernelspec": {
   "display_name": "Python 3",
   "language": "python",
   "name": "python3"
  },
  "language_info": {
   "codemirror_mode": {
    "name": "ipython",
    "version": 3
   },
   "file_extension": ".py",
   "mimetype": "text/x-python",
   "name": "python",
   "nbconvert_exporter": "python",
   "pygments_lexer": "ipython3",
   "version": "3.6.1"
  }
 },
 "nbformat": 4,
 "nbformat_minor": 2
}
