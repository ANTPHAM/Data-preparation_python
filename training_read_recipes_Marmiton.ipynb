{
 "cells": [
  {
   "cell_type": "markdown",
   "metadata": {},
   "source": [
    "# Data Preparation - Turning html output collected from website \" Marmiton\" into a pandas data frame"
   ]
  },
  {
   "cell_type": "code",
   "execution_count": 1,
   "metadata": {},
   "outputs": [],
   "source": [
    "import re\n",
    "import pandas as pd\n",
    "import html5lib"
   ]
  },
  {
   "cell_type": "code",
   "execution_count": 2,
   "metadata": {},
   "outputs": [
    {
     "name": "stdout",
     "output_type": "stream",
     "text": [
      "E:\\data\\recette_Marmiton_V1\\assets\n"
     ]
    }
   ],
   "source": [
    "%cd E:/data/recette_Marmiton_V1/assets"
   ]
  },
  {
   "cell_type": "code",
   "execution_count": 3,
   "metadata": {},
   "outputs": [],
   "source": [
    "filename=('E:/data/recette_Marmiton_V1/assets/output.xml')"
   ]
  },
  {
   "cell_type": "code",
   "execution_count": 4,
   "metadata": {},
   "outputs": [],
   "source": [
    "recipe_Marmit=open(filename, 'r',encoding='utf-8_sig')\n",
    "data=recipe_Marmit.read()\n",
    "recipe_Marmit.close()"
   ]
  },
  {
   "cell_type": "markdown",
   "metadata": {},
   "source": [
    "Checking out the data"
   ]
  },
  {
   "cell_type": "code",
   "execution_count": 5,
   "metadata": {},
   "outputs": [
    {
     "data": {
      "text/plain": [
       "81961"
      ]
     },
     "execution_count": 5,
     "metadata": {},
     "output_type": "execute_result"
    }
   ],
   "source": [
    "# number of links\n",
    "len(re.findall('<Url>(.+?.)</Url>', data))"
   ]
  },
  {
   "cell_type": "code",
   "execution_count": 6,
   "metadata": {},
   "outputs": [
    {
     "data": {
      "text/plain": [
       "81953"
      ]
     },
     "execution_count": 6,
     "metadata": {},
     "output_type": "execute_result"
    }
   ],
   "source": [
    "# number of recipes\n",
    "len(re.findall('<Title>(.+?.)</Title>', data))"
   ]
  },
  {
   "cell_type": "code",
   "execution_count": 6,
   "metadata": {},
   "outputs": [
    {
     "data": {
      "text/plain": [
       "529"
      ]
     },
     "execution_count": 6,
     "metadata": {},
     "output_type": "execute_result"
    }
   ],
   "source": [
    "len(re.findall('Tiramisu', data))# 188 recipes for \" Tiramisu\""
   ]
  },
  {
   "cell_type": "code",
   "execution_count": 7,
   "metadata": {
    "scrolled": false
   },
   "outputs": [],
   "source": [
    "data2list=data.split('\\n')"
   ]
  },
  {
   "cell_type": "code",
   "execution_count": 8,
   "metadata": {},
   "outputs": [
    {
     "data": {
      "text/plain": [
       "['<?xml version=\"1.0\" encoding=\"UTF-8\" standalone=\"no\"?>',\n",
       " '<Recipes>',\n",
       " '  <Recipe>',\n",
       " '    <Author/>',\n",
       " '    <Url>https://www.marmiton.org/recettes/recette-hasard.aspx</Url>']"
      ]
     },
     "execution_count": 8,
     "metadata": {},
     "output_type": "execute_result"
    }
   ],
   "source": [
    "data2list[:5]"
   ]
  },
  {
   "cell_type": "code",
   "execution_count": 9,
   "metadata": {},
   "outputs": [],
   "source": [
    "data2list=[\"\".join(data2list[i]).strip() for i in range(len(data2list))]"
   ]
  },
  {
   "cell_type": "code",
   "execution_count": 10,
   "metadata": {},
   "outputs": [
    {
     "data": {
      "text/plain": [
       "False"
      ]
     },
     "execution_count": 10,
     "metadata": {},
     "output_type": "execute_result"
    }
   ],
   "source": [
    "data2list[5]==\"<Recipe>\""
   ]
  },
  {
   "cell_type": "code",
   "execution_count": 11,
   "metadata": {},
   "outputs": [
    {
     "data": {
      "text/plain": [
       "['<?xml version=\"1.0\" encoding=\"UTF-8\" standalone=\"no\"?>',\n",
       " '<Recipes>',\n",
       " '<Recipe>',\n",
       " '<Author/>',\n",
       " '<Url>https://www.marmiton.org/recettes/recette-hasard.aspx</Url>',\n",
       " '<Title>Véritables rouleaux de printemps au poulet</Title>',\n",
       " '<PictureUrl>https://image.afcdn.com/recipe/20131025/3934_w420h344c1cx3000cy2000.jpg</PictureUrl>',\n",
       " '<WorkingOrder>Entrée</WorkingOrder>',\n",
       " '<Ingredients>',\n",
       " '<Ingredient>',\n",
       " '<Amount>galette</Amount>',\n",
       " '<Kind>riz</Kind>',\n",
       " '</Ingredient>',\n",
       " '<Ingredient>',\n",
       " '<Kind>carotte</Kind>',\n",
       " '</Ingredient>',\n",
       " '<Ingredient>',\n",
       " '<Amount>paquet</Amount>',\n",
       " '<Kind>champignon noir</Kind>',\n",
       " '</Ingredient>',\n",
       " '<Ingredient>',\n",
       " '<Kind>crevette</Kind>',\n",
       " '</Ingredient>',\n",
       " '<Ingredient>',\n",
       " '<Amount>bocal</Amount>',\n",
       " '<Kind>germes de soja</Kind>',\n",
       " '</Ingredient>',\n",
       " '<Ingredient>',\n",
       " '<Amount>blanc</Amount>',\n",
       " '<Kind>poulet</Kind>',\n",
       " '</Ingredient>',\n",
       " '<Ingredient>',\n",
       " '<Kind>oignon</Kind>',\n",
       " '</Ingredient>',\n",
       " '<Ingredient>',\n",
       " '<Kind>Sauce soja</Kind>',\n",
       " '</Ingredient>',\n",
       " '<Ingredient>',\n",
       " '<Amount>feuille</Amount>',\n",
       " '<Kind>laitue</Kind>',\n",
       " '</Ingredient>',\n",
       " '<Ingredient>',\n",
       " '<Amount>feuille</Amount>',\n",
       " '<Kind>menthe</Kind>',\n",
       " '</Ingredient>',\n",
       " '</Ingredients>',\n",
       " '</Recipe>',\n",
       " '<Recipe>',\n",
       " '<Author/>',\n",
       " '<Url>https://www.marmiton.org/recettes/recette_gratin-dauphinois_13809.aspx</Url>']"
      ]
     },
     "execution_count": 11,
     "metadata": {},
     "output_type": "execute_result"
    }
   ],
   "source": [
    "data2list[:50]"
   ]
  },
  {
   "cell_type": "code",
   "execution_count": 12,
   "metadata": {},
   "outputs": [],
   "source": [
    "# get the position of every element that appears at the begin of a menu, that means with the string <Recipe>\n",
    "idx_recipe=[i for i in range(len(data2list)) if data2list[i]=='<Recipe>']"
   ]
  },
  {
   "cell_type": "code",
   "execution_count": 13,
   "metadata": {},
   "outputs": [
    {
     "data": {
      "text/plain": [
       "[2, 47, 84, 120, 161, 198, 224, 258, 277, 317]"
      ]
     },
     "execution_count": 13,
     "metadata": {},
     "output_type": "execute_result"
    }
   ],
   "source": [
    "idx_recipe[:10]"
   ]
  },
  {
   "cell_type": "code",
   "execution_count": 14,
   "metadata": {},
   "outputs": [
    {
     "data": {
      "text/plain": [
       "[2951645, 2951685, 2951708]"
      ]
     },
     "execution_count": 14,
     "metadata": {},
     "output_type": "execute_result"
    }
   ],
   "source": [
    "idx_recipe[-3:]"
   ]
  },
  {
   "cell_type": "code",
   "execution_count": 15,
   "metadata": {},
   "outputs": [
    {
     "data": {
      "text/plain": [
       "2951750"
      ]
     },
     "execution_count": 15,
     "metadata": {},
     "output_type": "execute_result"
    }
   ],
   "source": [
    "# the last menu begins at the index 2951708\n",
    "# but the end of the last menu is found at 2951750\n",
    "len(data2list)"
   ]
  },
  {
   "cell_type": "code",
   "execution_count": 16,
   "metadata": {},
   "outputs": [
    {
     "data": {
      "text/plain": [
       "['</Recipe>', '</Recipes>', '']"
      ]
     },
     "execution_count": 16,
     "metadata": {},
     "output_type": "execute_result"
    }
   ],
   "source": [
    "data2list[-3:]"
   ]
  },
  {
   "cell_type": "code",
   "execution_count": 17,
   "metadata": {},
   "outputs": [],
   "source": [
    "# add the index 2951748 that corresponds to the end of the last menu (</Recipe>)\n",
    "idx_recipe.append(len(data2list)-2)# the last element was an empty string"
   ]
  },
  {
   "cell_type": "code",
   "execution_count": 18,
   "metadata": {},
   "outputs": [
    {
     "data": {
      "text/plain": [
       "[2951685, 2951708, 2951748]"
      ]
     },
     "execution_count": 18,
     "metadata": {},
     "output_type": "execute_result"
    }
   ],
   "source": [
    "idx_recipe[-3:]"
   ]
  },
  {
   "cell_type": "code",
   "execution_count": 19,
   "metadata": {},
   "outputs": [
    {
     "data": {
      "text/plain": [
       "['<Recipe>',\n",
       " '<Author/>',\n",
       " '<Url>https://www.marmiton.org/recettes/recette_gratin-dauphinois_13809.aspx</Url>',\n",
       " '<Title>Gratin Dauphinois</Title>',\n",
       " '<PictureUrl>https://image.afcdn.com/recipe/20160401/5313_w420h344c1cx2088cy1412.jpg</PictureUrl>',\n",
       " '<WorkingOrder>Plat principal</WorkingOrder>',\n",
       " '<Ingredients>',\n",
       " '<Ingredient>',\n",
       " '<Amount>kg</Amount>',\n",
       " '<Kind>pomme de terre</Kind>',\n",
       " '</Ingredient>',\n",
       " '<Ingredient>',\n",
       " \"<Kind>gousse d'ail</Kind>\",\n",
       " '</Ingredient>',\n",
       " '<Ingredient>',\n",
       " '<Amount>cl</Amount>',\n",
       " '<Kind>crème</Kind>',\n",
       " '</Ingredient>',\n",
       " '<Ingredient>',\n",
       " '<Amount>g</Amount>',\n",
       " '<Kind>beurre</Kind>',\n",
       " '</Ingredient>',\n",
       " '<Ingredient>',\n",
       " '<Amount>l</Amount>',\n",
       " '<Kind>lait</Kind>',\n",
       " '</Ingredient>',\n",
       " '<Ingredient>',\n",
       " '<Kind>Muscade</Kind>',\n",
       " '</Ingredient>',\n",
       " '<Ingredient>',\n",
       " '<Kind>Sel</Kind>',\n",
       " '</Ingredient>',\n",
       " '<Ingredient>',\n",
       " '<Kind>Poivre</Kind>',\n",
       " '</Ingredient>',\n",
       " '</Ingredients>',\n",
       " '</Recipe>']"
      ]
     },
     "execution_count": 19,
     "metadata": {},
     "output_type": "execute_result"
    }
   ],
   "source": [
    "data2list[47:84]"
   ]
  },
  {
   "cell_type": "code",
   "execution_count": 20,
   "metadata": {},
   "outputs": [
    {
     "data": {
      "text/plain": [
       "'<Author/>'"
      ]
     },
     "execution_count": 20,
     "metadata": {},
     "output_type": "execute_result"
    }
   ],
   "source": [
    "data2list[1169904:][0]"
   ]
  },
  {
   "cell_type": "code",
   "execution_count": 21,
   "metadata": {},
   "outputs": [
    {
     "data": {
      "text/plain": [
       "[2951622, 2951645, 2951685, 2951708, 2951748]"
      ]
     },
     "execution_count": 21,
     "metadata": {},
     "output_type": "execute_result"
    }
   ],
   "source": [
    "idx_recipe[-5:]"
   ]
  },
  {
   "cell_type": "code",
   "execution_count": 22,
   "metadata": {},
   "outputs": [],
   "source": [
    "data_recipe=[]\n",
    "\n",
    "for i in range(len(idx_recipe)):\n",
    "    '''\n",
    "    # creating a list called 'data_recipe'\n",
    "    # iterating data2list from i to i+1 at a time and   put results of each iteration into this list\n",
    "    \n",
    "    params: list of position (index) where a new recipe begins in the list 'data2list'\n",
    "    '''\n",
    "    try:\n",
    "        data_recipe.append(data2list[idx_recipe[i]:idx_recipe[i+1]])\n",
    "    except:\n",
    "        break   \n",
    "    "
   ]
  },
  {
   "cell_type": "code",
   "execution_count": 23,
   "metadata": {},
   "outputs": [
    {
     "data": {
      "text/plain": [
       "['<Recipe>',\n",
       " '<Author/>',\n",
       " '<Url>https://www.marmiton.org/recettes/recette-hasard.aspx</Url>',\n",
       " '<Title>Véritables rouleaux de printemps au poulet</Title>',\n",
       " '<PictureUrl>https://image.afcdn.com/recipe/20131025/3934_w420h344c1cx3000cy2000.jpg</PictureUrl>',\n",
       " '<WorkingOrder>Entrée</WorkingOrder>',\n",
       " '<Ingredients>',\n",
       " '<Ingredient>',\n",
       " '<Amount>galette</Amount>',\n",
       " '<Kind>riz</Kind>',\n",
       " '</Ingredient>',\n",
       " '<Ingredient>',\n",
       " '<Kind>carotte</Kind>',\n",
       " '</Ingredient>',\n",
       " '<Ingredient>',\n",
       " '<Amount>paquet</Amount>',\n",
       " '<Kind>champignon noir</Kind>',\n",
       " '</Ingredient>',\n",
       " '<Ingredient>',\n",
       " '<Kind>crevette</Kind>',\n",
       " '</Ingredient>',\n",
       " '<Ingredient>',\n",
       " '<Amount>bocal</Amount>',\n",
       " '<Kind>germes de soja</Kind>',\n",
       " '</Ingredient>',\n",
       " '<Ingredient>',\n",
       " '<Amount>blanc</Amount>',\n",
       " '<Kind>poulet</Kind>',\n",
       " '</Ingredient>',\n",
       " '<Ingredient>',\n",
       " '<Kind>oignon</Kind>',\n",
       " '</Ingredient>',\n",
       " '<Ingredient>',\n",
       " '<Kind>Sauce soja</Kind>',\n",
       " '</Ingredient>',\n",
       " '<Ingredient>',\n",
       " '<Amount>feuille</Amount>',\n",
       " '<Kind>laitue</Kind>',\n",
       " '</Ingredient>',\n",
       " '<Ingredient>',\n",
       " '<Amount>feuille</Amount>',\n",
       " '<Kind>menthe</Kind>',\n",
       " '</Ingredient>',\n",
       " '</Ingredients>',\n",
       " '</Recipe>']"
      ]
     },
     "execution_count": 23,
     "metadata": {},
     "output_type": "execute_result"
    }
   ],
   "source": [
    "data_recipe[0]"
   ]
  },
  {
   "cell_type": "code",
   "execution_count": 24,
   "metadata": {},
   "outputs": [
    {
     "data": {
      "text/plain": [
       "['https://www.marmiton.org/recettes/recette_muffins-au-the-vert-et-gingembre_45186.aspx#']"
      ]
     },
     "execution_count": 24,
     "metadata": {},
     "output_type": "execute_result"
    }
   ],
   "source": [
    "re.findall('<Url>(.+?.)</Url>',\"\".join(data_recipe[-1:][0]))"
   ]
  },
  {
   "cell_type": "code",
   "execution_count": 25,
   "metadata": {},
   "outputs": [
    {
     "data": {
      "text/plain": [
       "['galette', 'paquet', 'bocal', 'blanc', 'feuille', 'feuille']"
      ]
     },
     "execution_count": 25,
     "metadata": {},
     "output_type": "execute_result"
    }
   ],
   "source": [
    "re.findall(\"<Amount>(.+?.)</Amount>\",\"\".join(data_recipe[0]))"
   ]
  },
  {
   "cell_type": "code",
   "execution_count": 26,
   "metadata": {},
   "outputs": [
    {
     "data": {
      "text/plain": [
       "['galette']"
      ]
     },
     "execution_count": 26,
     "metadata": {},
     "output_type": "execute_result"
    }
   ],
   "source": [
    "re.findall(\"<Amount>(.+?.)</Amount>\",\"\".join(data_recipe[0][8]))"
   ]
  },
  {
   "cell_type": "code",
   "execution_count": 27,
   "metadata": {},
   "outputs": [
    {
     "data": {
      "text/plain": [
       "['farine',\n",
       " 'sucre',\n",
       " 'beurre demi sel',\n",
       " 'lait',\n",
       " 'oeuf',\n",
       " 'levure chimique',\n",
       " 'thé matcha',\n",
       " 'gingembre']"
      ]
     },
     "execution_count": 27,
     "metadata": {},
     "output_type": "execute_result"
    }
   ],
   "source": [
    "re.findall(\"<Kind>(.+?.)</Kind>\",\"\".join(data_recipe[-1:][0]))"
   ]
  },
  {
   "cell_type": "code",
   "execution_count": 28,
   "metadata": {},
   "outputs": [
    {
     "data": {
      "text/plain": [
       "['Muffins au thé vert et gingembre']"
      ]
     },
     "execution_count": 28,
     "metadata": {},
     "output_type": "execute_result"
    }
   ],
   "source": [
    "re.findall(\"<Title>(.+?.)</Title>\",\"\".join(data_recipe[-1:][0]))"
   ]
  },
  {
   "cell_type": "code",
   "execution_count": 29,
   "metadata": {},
   "outputs": [
    {
     "data": {
      "text/plain": [
       "629528"
      ]
     },
     "execution_count": 29,
     "metadata": {},
     "output_type": "execute_result"
    }
   ],
   "source": [
    "len(re.findall('<Kind>(.+?.)</Kind>', data))"
   ]
  },
  {
   "cell_type": "code",
   "execution_count": 30,
   "metadata": {},
   "outputs": [],
   "source": [
    "def get_ingrediens(each_recipe):\n",
    "    \"\"\"\n",
    "    For each recipe in the list 'data_recipe', getting a grouped string contains all string elements founded either after 'Amount or 'Kind'\n",
    "    If a recipe don't have ' Amount' value, take the string of ' Kind' only.\n",
    "    \n",
    "    params: each_recipe must be a list contains all elements of a recipe\n",
    "    \"\"\"\n",
    "    L=[]\n",
    "        \n",
    "    for i in range(len(each_recipe)):\n",
    "        try:\n",
    "            if each_recipe[i] == '<Ingredient>':\n",
    "                if each_recipe[i+1].startswith('<Amount>') :\n",
    "                    c=[]\n",
    "                    a=\"\".join(re.findall(\"<Amount>(.+?.)</Amount>\",\"\".join(each_recipe[i+1])))\n",
    "                    b=\"\".join(re.findall(\"<Kind>(.+?.)</Kind>\",\"\".join(each_recipe[i+2])))\n",
    "                    c.append(a)\n",
    "                    c.append(b)\n",
    "                    c=\" \".join(c)\n",
    "                    L.append(c)\n",
    "                    \n",
    "                else:\n",
    "                    L.append(\"\".join(re.findall(\"<Kind>(.+?.)</Kind>\",\"\".join(each_recipe[i+1]))))\n",
    "\n",
    "            else:\n",
    "                pass\n",
    "        except:\n",
    "            pass\n",
    "    \n",
    "   \n",
    "    return \",\".join(L)# convert L to string\n"
   ]
  },
  {
   "cell_type": "code",
   "execution_count": 31,
   "metadata": {},
   "outputs": [
    {
     "data": {
      "text/plain": [
       "\"pâte brisée,tomate,Herbes Provence,Moutarde dijon,Huile d'olive\""
      ]
     },
     "execution_count": 31,
     "metadata": {},
     "output_type": "execute_result"
    }
   ],
   "source": [
    "# applying this function on the 2nd recipe\n",
    "get_ingrediens(data_recipe[5])"
   ]
  },
  {
   "cell_type": "markdown",
   "metadata": {},
   "source": [
    "- Creating a dictionary \n",
    "\n",
    "- Parsing html file to gather informations we need"
   ]
  },
  {
   "cell_type": "code",
   "execution_count": 32,
   "metadata": {},
   "outputs": [],
   "source": [
    "\n",
    "recipes=[]\n",
    "for i in range(len(data_recipe)):\n",
    "    recipe = {\"Url\": \"\".join(re.findall('<Url>(.+?.)</Url>',\"\".join(data_recipe[i]))),\n",
    "                  \"Title\": \"\".join(re.findall('<Title>(.+?.)</Title>',\"\".join(data_recipe[i]))),\n",
    "                  \"PictureUrl\": \"\".join(re.findall('<PictureUrl>(.+?.)</PictureUrl>',\"\".join(data_recipe[i]))),\n",
    "                  \"WorkingOrder\": \"\".join(re.findall('<WorkingOrder>(.+?.)</WorkingOrder>',\"\".join(data_recipe[i]))),\n",
    "             \"Ingredients\": get_ingrediens(data_recipe[i])# using here the function 'get_ingredients'\n",
    "             }\n",
    "    recipes.append(recipe)\n",
    "    \n"
   ]
  },
  {
   "cell_type": "code",
   "execution_count": 33,
   "metadata": {},
   "outputs": [
    {
     "data": {
      "text/plain": [
       "[{'Ingredients': 'galette riz,carotte,paquet champignon noir,crevette,bocal germes de soja,blanc poulet,oignon,Sauce soja,feuille laitue,feuille menthe',\n",
       "  'PictureUrl': 'https://image.afcdn.com/recipe/20131025/3934_w420h344c1cx3000cy2000.jpg',\n",
       "  'Title': 'Véritables rouleaux de printemps au poulet',\n",
       "  'Url': 'https://www.marmiton.org/recettes/recette-hasard.aspx',\n",
       "  'WorkingOrder': 'Entrée'}]"
      ]
     },
     "execution_count": 33,
     "metadata": {},
     "output_type": "execute_result"
    }
   ],
   "source": [
    "recipes[:1]"
   ]
  },
  {
   "cell_type": "code",
   "execution_count": 34,
   "metadata": {},
   "outputs": [
    {
     "name": "stdout",
     "output_type": "stream",
     "text": [
      " There are 81961 recipes\n"
     ]
    }
   ],
   "source": [
    "print(\" There are %d recipes\" %len(recipes))"
   ]
  },
  {
   "cell_type": "code",
   "execution_count": 35,
   "metadata": {},
   "outputs": [],
   "source": [
    "# converting the above list into a dictionary\n",
    "recipe2dict = { i:v for i,v in enumerate(recipes) }"
   ]
  },
  {
   "cell_type": "code",
   "execution_count": 36,
   "metadata": {},
   "outputs": [
    {
     "data": {
      "text/plain": [
       "{'Ingredients': \"kg pomme de terre,gousse d'ail,cl crème, beurre, lait,Muscade,Sel,Poivre\",\n",
       " 'PictureUrl': 'https://image.afcdn.com/recipe/20160401/5313_w420h344c1cx2088cy1412.jpg',\n",
       " 'Title': 'Gratin Dauphinois',\n",
       " 'Url': 'https://www.marmiton.org/recettes/recette_gratin-dauphinois_13809.aspx',\n",
       " 'WorkingOrder': 'Plat principal'}"
      ]
     },
     "execution_count": 36,
     "metadata": {},
     "output_type": "execute_result"
    }
   ],
   "source": [
    "recipe2dict[1]"
   ]
  },
  {
   "cell_type": "code",
   "execution_count": 37,
   "metadata": {},
   "outputs": [],
   "source": [
    "df=pd.DataFrame(recipe2dict).T"
   ]
  },
  {
   "cell_type": "code",
   "execution_count": 38,
   "metadata": {},
   "outputs": [
    {
     "data": {
      "text/plain": [
       "Index(['Ingredients', 'PictureUrl', 'Title', 'Url', 'WorkingOrder'], dtype='object')"
      ]
     },
     "execution_count": 38,
     "metadata": {},
     "output_type": "execute_result"
    }
   ],
   "source": [
    "df.columns"
   ]
  },
  {
   "cell_type": "code",
   "execution_count": 39,
   "metadata": {},
   "outputs": [],
   "source": [
    "df=df[['Title', 'Ingredients', 'WorkingOrder','Url', 'PictureUrl' ]]"
   ]
  },
  {
   "cell_type": "code",
   "execution_count": 40,
   "metadata": {},
   "outputs": [
    {
     "data": {
      "text/plain": [
       "81959     orange,sachet pruneau,Eau fleur d'oranger,Amande\n",
       "81960     farine, sucre, beurre demi sel,cl lait,oeuf,s...\n",
       "Name: Ingredients, dtype: object"
      ]
     },
     "execution_count": 40,
     "metadata": {},
     "output_type": "execute_result"
    }
   ],
   "source": [
    "df.iloc[-2:,1]"
   ]
  },
  {
   "cell_type": "markdown",
   "metadata": {},
   "source": [
    "# PUT ALL TOGETHER"
   ]
  },
  {
   "cell_type": "code",
   "execution_count": 41,
   "metadata": {},
   "outputs": [
    {
     "data": {
      "text/plain": [
       "'E:\\\\data\\\\recette_Marmiton_V1\\\\assets'"
      ]
     },
     "execution_count": 41,
     "metadata": {},
     "output_type": "execute_result"
    }
   ],
   "source": [
    "import os\n",
    "os.getcwd()"
   ]
  },
  {
   "cell_type": "code",
   "execution_count": 42,
   "metadata": {},
   "outputs": [],
   "source": [
    "filepath='E:/data/recette_Marmiton_V1/assets' # os.getcwd()"
   ]
  },
  {
   "cell_type": "code",
   "execution_count": 43,
   "metadata": {},
   "outputs": [],
   "source": [
    "os.chdir(filepath)"
   ]
  },
  {
   "cell_type": "code",
   "execution_count": 44,
   "metadata": {},
   "outputs": [
    {
     "data": {
      "text/plain": [
       "'E:\\\\data\\\\recette_Marmiton_V1\\\\assets'"
      ]
     },
     "execution_count": 44,
     "metadata": {},
     "output_type": "execute_result"
    }
   ],
   "source": [
    "os.getcwd()"
   ]
  },
  {
   "cell_type": "code",
   "execution_count": 45,
   "metadata": {},
   "outputs": [],
   "source": [
    "filename='output.xml'"
   ]
  },
  {
   "cell_type": "code",
   "execution_count": 46,
   "metadata": {},
   "outputs": [],
   "source": [
    "file=open(filename,'r',encoding='utf-8-sig')"
   ]
  },
  {
   "cell_type": "code",
   "execution_count": 47,
   "metadata": {},
   "outputs": [],
   "source": [
    "file=file.read()\n",
    "file=file.split(\"\\n\")"
   ]
  },
  {
   "cell_type": "code",
   "execution_count": 48,
   "metadata": {},
   "outputs": [
    {
     "data": {
      "text/plain": [
       "['<?xml version=\"1.0\" encoding=\"UTF-8\" standalone=\"no\"?>',\n",
       " '<Recipes>',\n",
       " '  <Recipe>',\n",
       " '    <Author/>',\n",
       " '    <Url>https://www.marmiton.org/recettes/recette-hasard.aspx</Url>']"
      ]
     },
     "execution_count": 48,
     "metadata": {},
     "output_type": "execute_result"
    }
   ],
   "source": [
    "file[:5]"
   ]
  },
  {
   "cell_type": "code",
   "execution_count": 49,
   "metadata": {},
   "outputs": [],
   "source": [
    "def html_preprocessing(filepath, filename):\n",
    "    '''\n",
    "    '''\n",
    "    if os.getcwd()==filepath:\n",
    "        pass\n",
    "    else:\n",
    "        os.chdir(filepath)\n",
    "    \n",
    "    def open_html(filename):\n",
    "        try:\n",
    "            file=open(filename,'r',encoding='utf-8-sig')\n",
    "            file=file.read()\n",
    "            file=file.split(\"\\n\")\n",
    "            file=[\"\".join(file[i]).strip() for i in range(len(file))]\n",
    "            return file\n",
    "        except:\n",
    "            raise \"No a such file or directory\"\n",
    "        \n",
    "    \n",
    "    def buid_data_recipe(file):\n",
    "        # get the position of every element that appears at the begin of a menu, that means with the string <Recipe>\n",
    "        idx_recipe=[i for i in range(len(file)) if file[i]=='<Recipe>']\n",
    "        # add the index 1169938 that corresponds to the end of the last menu (</Recipe>)\n",
    "        idx_recipe.append(len(file)-2)# the last element was an empty string\n",
    "        data_recipe=[]\n",
    "        for i in range(len(idx_recipe)):\n",
    "            '''\n",
    "            # creating a list called 'data_recipe'\n",
    "            # iterating data2list from i to i+1 at a time, putting result of each iteration into 'data_recipe'\n",
    "            params: list of position (index) where a new recipe begins in the list 'data2list'\n",
    "            '''\n",
    "            try:\n",
    "                data_recipe.append(data2list[idx_recipe[i]:idx_recipe[i+1]])\n",
    "            except:\n",
    "                break \n",
    "        #return data_recipe\n",
    "    \n",
    "    def get_ingrediens(each_recipe):\n",
    "        \"\"\"\n",
    "        For each recipe in the list 'data_recipe', getting a grouped string contains all string elements founded either after 'Amount or 'Kind'\n",
    "        If a recipe don't have ' Amount' value, take the string of ' Kind' only.\n",
    "        params: each_recipe must be a list contains all elements of a recipe\n",
    "        \"\"\"\n",
    "        L=[]\n",
    "        for i in range(len(each_recipe)):\n",
    "            try:\n",
    "                if each_recipe[i] == '<Ingredient>':\n",
    "                    if each_recipe[i+1].startswith('<Amount>') :\n",
    "                        c=[]\n",
    "                        a=\"\".join(re.findall(\"<Amount>(.+?.)</Amount>\",\"\".join(each_recipe[i+1])))\n",
    "                        b=\"\".join(re.findall(\"<Kind>(.+?.)</Kind>\",\"\".join(each_recipe[i+2])))\n",
    "                        c.append(a)\n",
    "                        c.append(b)\n",
    "                        c=\" \".join(c)\n",
    "                        L.append(c)\n",
    "\n",
    "                    else:\n",
    "                        L.append(\"\".join(re.findall(\"<Kind>(.+?.)</Kind>\",\"\".join(each_recipe[i+1]))))\n",
    "\n",
    "                else:\n",
    "                    pass\n",
    "            except:\n",
    "                pass\n",
    "\n",
    "        return \",\".join(L)# convert L to string\n",
    "\n",
    "    \n",
    "    def buid_dataframe(data_recipe):\n",
    "        \"\"\"\n",
    "        params: the output 'data_recipe' coming form the function 'buid_data_recipe'\n",
    "        \"\"\"\n",
    "        recipes=[]\n",
    "        for i in range(len(data_recipe)):\n",
    "            recipe = {\"Url\": \"\".join(re.findall('<Url>(.+?.)</Url>',\"\".join(data_recipe[i]))),\n",
    "                      \"Title\": \"\".join(re.findall('<Title>(.+?.)</Title>',\"\".join(data_recipe[i]))),\n",
    "                      \"PictureUrl\": \"\".join(re.findall('<PictureUrl>(.+?.)</PictureUrl>',\"\".join(data_recipe[i]))),\n",
    "                      \"WorkingOrder\": \"\".join(re.findall('<WorkingOrder>(.+?.)</WorkingOrder>',\"\".join(data_recipe[i]))),\n",
    "                      \"Ingredients\": get_ingrediens(data_recipe[i])# using here the function 'get_ingredients'\n",
    "                      }\n",
    "            recipes.append(recipe)\n",
    "        recipe2dict = { i:v for i,v in enumerate(recipes) }\n",
    "        df=pd.DataFrame(recipe2dict).T\n",
    "        df=df[['Title', 'Ingredients', 'WorkingOrder','Url', 'PictureUrl' ]]\n",
    "        \n",
    "    return df\n",
    "    \n",
    "    "
   ]
  },
  {
   "cell_type": "code",
   "execution_count": 50,
   "metadata": {},
   "outputs": [],
   "source": [
    "df=html_preprocessing('E:/data/recette_Marmiton_V1/assets','output.xml')"
   ]
  },
  {
   "cell_type": "code",
   "execution_count": 51,
   "metadata": {},
   "outputs": [
    {
     "data": {
      "text/html": [
       "<div>\n",
       "<style scoped>\n",
       "    .dataframe tbody tr th:only-of-type {\n",
       "        vertical-align: middle;\n",
       "    }\n",
       "\n",
       "    .dataframe tbody tr th {\n",
       "        vertical-align: top;\n",
       "    }\n",
       "\n",
       "    .dataframe thead th {\n",
       "        text-align: right;\n",
       "    }\n",
       "</style>\n",
       "<table border=\"1\" class=\"dataframe\">\n",
       "  <thead>\n",
       "    <tr style=\"text-align: right;\">\n",
       "      <th></th>\n",
       "      <th>Title</th>\n",
       "      <th>Ingredients</th>\n",
       "      <th>WorkingOrder</th>\n",
       "      <th>Url</th>\n",
       "      <th>PictureUrl</th>\n",
       "    </tr>\n",
       "  </thead>\n",
       "  <tbody>\n",
       "    <tr>\n",
       "      <th>81956</th>\n",
       "      <td>Revani (gâteau de semoule turc au sirop)</td>\n",
       "      <td>oeuf,verre yaourt nature,verre d'huile,verre f...</td>\n",
       "      <td>Dessert</td>\n",
       "      <td>https://www.marmiton.org/recettes/recette_reva...</td>\n",
       "      <td>https://image.afcdn.com/recipe/20140814/828_w4...</td>\n",
       "    </tr>\n",
       "    <tr>\n",
       "      <th>81957</th>\n",
       "      <td>Salade d'oranges du Maroc</td>\n",
       "      <td>orange,sachet pruneau,Eau fleur d'oranger,Amande</td>\n",
       "      <td>Dessert</td>\n",
       "      <td>https://www.marmiton.org/recettes/recette_sala...</td>\n",
       "      <td>https://image.afcdn.com/recipe/20140814/61613_...</td>\n",
       "    </tr>\n",
       "    <tr>\n",
       "      <th>81958</th>\n",
       "      <td>Muffins au thé vert et gingembre</td>\n",
       "      <td>farine, sucre, beurre demi sel,cl lait,oeuf,s...</td>\n",
       "      <td>Dessert</td>\n",
       "      <td>https://www.marmiton.org/recettes/recette_muff...</td>\n",
       "      <td>https://image.afcdn.com/recipe/20100120/47186_...</td>\n",
       "    </tr>\n",
       "    <tr>\n",
       "      <th>81959</th>\n",
       "      <td>Salade d'oranges du Maroc</td>\n",
       "      <td>orange,sachet pruneau,Eau fleur d'oranger,Amande</td>\n",
       "      <td>Dessert</td>\n",
       "      <td>https://www.marmiton.org/recettes/recette_sala...</td>\n",
       "      <td>https://image.afcdn.com/recipe/20140814/61613_...</td>\n",
       "    </tr>\n",
       "    <tr>\n",
       "      <th>81960</th>\n",
       "      <td>Muffins au thé vert et gingembre</td>\n",
       "      <td>farine, sucre, beurre demi sel,cl lait,oeuf,s...</td>\n",
       "      <td>Dessert</td>\n",
       "      <td>https://www.marmiton.org/recettes/recette_muff...</td>\n",
       "      <td>https://image.afcdn.com/recipe/20100120/47186_...</td>\n",
       "    </tr>\n",
       "  </tbody>\n",
       "</table>\n",
       "</div>"
      ],
      "text/plain": [
       "                                          Title  \\\n",
       "81956  Revani (gâteau de semoule turc au sirop)   \n",
       "81957                 Salade d'oranges du Maroc   \n",
       "81958          Muffins au thé vert et gingembre   \n",
       "81959                 Salade d'oranges du Maroc   \n",
       "81960          Muffins au thé vert et gingembre   \n",
       "\n",
       "                                             Ingredients WorkingOrder  \\\n",
       "81956  oeuf,verre yaourt nature,verre d'huile,verre f...      Dessert   \n",
       "81957   orange,sachet pruneau,Eau fleur d'oranger,Amande      Dessert   \n",
       "81958   farine, sucre, beurre demi sel,cl lait,oeuf,s...      Dessert   \n",
       "81959   orange,sachet pruneau,Eau fleur d'oranger,Amande      Dessert   \n",
       "81960   farine, sucre, beurre demi sel,cl lait,oeuf,s...      Dessert   \n",
       "\n",
       "                                                     Url  \\\n",
       "81956  https://www.marmiton.org/recettes/recette_reva...   \n",
       "81957  https://www.marmiton.org/recettes/recette_sala...   \n",
       "81958  https://www.marmiton.org/recettes/recette_muff...   \n",
       "81959  https://www.marmiton.org/recettes/recette_sala...   \n",
       "81960  https://www.marmiton.org/recettes/recette_muff...   \n",
       "\n",
       "                                              PictureUrl  \n",
       "81956  https://image.afcdn.com/recipe/20140814/828_w4...  \n",
       "81957  https://image.afcdn.com/recipe/20140814/61613_...  \n",
       "81958  https://image.afcdn.com/recipe/20100120/47186_...  \n",
       "81959  https://image.afcdn.com/recipe/20140814/61613_...  \n",
       "81960  https://image.afcdn.com/recipe/20100120/47186_...  "
      ]
     },
     "execution_count": 51,
     "metadata": {},
     "output_type": "execute_result"
    }
   ],
   "source": [
    "df.iloc[-5:,:]"
   ]
  },
  {
   "cell_type": "code",
   "execution_count": 52,
   "metadata": {},
   "outputs": [
    {
     "data": {
      "text/plain": [
       "WorkingOrder\n",
       "Accompagnement     3853\n",
       "Amuse-gueule       3329\n",
       "Boisson            1946\n",
       "Confiserie         1828\n",
       "Dessert           23240\n",
       "Entrée            16264\n",
       "Plat principal    30211\n",
       "Sauce              1290\n",
       "dtype: int64"
      ]
     },
     "execution_count": 52,
     "metadata": {},
     "output_type": "execute_result"
    }
   ],
   "source": [
    "df.groupby('WorkingOrder').size()"
   ]
  },
  {
   "cell_type": "code",
   "execution_count": 53,
   "metadata": {},
   "outputs": [
    {
     "data": {
      "text/plain": [
       "56258"
      ]
     },
     "execution_count": 53,
     "metadata": {},
     "output_type": "execute_result"
    }
   ],
   "source": [
    "import numpy as np\n",
    "len(np.unique(df[['Title']]))"
   ]
  },
  {
   "cell_type": "code",
   "execution_count": 54,
   "metadata": {},
   "outputs": [
    {
     "data": {
      "text/html": [
       "<div>\n",
       "<style scoped>\n",
       "    .dataframe tbody tr th:only-of-type {\n",
       "        vertical-align: middle;\n",
       "    }\n",
       "\n",
       "    .dataframe tbody tr th {\n",
       "        vertical-align: top;\n",
       "    }\n",
       "\n",
       "    .dataframe thead th {\n",
       "        text-align: right;\n",
       "    }\n",
       "</style>\n",
       "<table border=\"1\" class=\"dataframe\">\n",
       "  <thead>\n",
       "    <tr style=\"text-align: right;\">\n",
       "      <th></th>\n",
       "      <th>Title</th>\n",
       "      <th>Ingredients</th>\n",
       "      <th>WorkingOrder</th>\n",
       "      <th>Url</th>\n",
       "      <th>PictureUrl</th>\n",
       "    </tr>\n",
       "  </thead>\n",
       "  <tbody>\n",
       "    <tr>\n",
       "      <th>12025</th>\n",
       "      <td>Marinade pour barbecue</td>\n",
       "      <td>miel liquide,huile d'olive,vinaigre balsamique...</td>\n",
       "      <td>Sauce</td>\n",
       "      <td>https://www.marmiton.org/recettes/recette_mari...</td>\n",
       "      <td>https://image.afcdn.com/recipe/20140706/34602_...</td>\n",
       "    </tr>\n",
       "    <tr>\n",
       "      <th>30985</th>\n",
       "      <td>Sauce piquante spéciale barbecue</td>\n",
       "      <td>oeuf,cuillère à café moutarde,Huile,petite boî...</td>\n",
       "      <td>Sauce</td>\n",
       "      <td>https://www.marmiton.org/recettes/recette_sauc...</td>\n",
       "      <td>https://image.afcdn.com/recipe/20130909/5346_w...</td>\n",
       "    </tr>\n",
       "    <tr>\n",
       "      <th>33284</th>\n",
       "      <td>Ma sauce barbecue à moi</td>\n",
       "      <td>bouillon,cl vin blanc,cl d'eau,échalote,cuillè...</td>\n",
       "      <td>Sauce</td>\n",
       "      <td>https://www.marmiton.org/recettes/recette_ma-s...</td>\n",
       "      <td></td>\n",
       "    </tr>\n",
       "    <tr>\n",
       "      <th>33293</th>\n",
       "      <td>Sauce barbecue au coca-cola</td>\n",
       "      <td>cl coca,cl ketchup,cl sauce worcestershire,cl ...</td>\n",
       "      <td>Sauce</td>\n",
       "      <td>https://www.marmiton.org/recettes/recette_sauc...</td>\n",
       "      <td>https://image.afcdn.com/recipe/20180228/77794_...</td>\n",
       "    </tr>\n",
       "    <tr>\n",
       "      <th>43465</th>\n",
       "      <td>Sauce barbecue sans morceaux d'échalote (micro...</td>\n",
       "      <td>cuillère à soupe d'huile d'olive,cuillère à so...</td>\n",
       "      <td>Sauce</td>\n",
       "      <td>https://www.marmiton.org/recettes/recette_sauc...</td>\n",
       "      <td></td>\n",
       "    </tr>\n",
       "    <tr>\n",
       "      <th>59224</th>\n",
       "      <td>Assortiments de sauces faciles pour fondue, pi...</td>\n",
       "      <td>mayonnaise,fromage blanc</td>\n",
       "      <td>Sauce</td>\n",
       "      <td>https://www.marmiton.org/recettes/recette_asso...</td>\n",
       "      <td></td>\n",
       "    </tr>\n",
       "    <tr>\n",
       "      <th>61324</th>\n",
       "      <td>Marinade pour viande rouge au barbecue</td>\n",
       "      <td>roti boeuf,oignon,échalote,cl vin rouge,cl sau...</td>\n",
       "      <td>Sauce</td>\n",
       "      <td>https://www.marmiton.org/recettes/recette_mari...</td>\n",
       "      <td></td>\n",
       "    </tr>\n",
       "    <tr>\n",
       "      <th>63648</th>\n",
       "      <td>Marinade pour poulet au barbecue</td>\n",
       "      <td>poulet,verre vin blanc sec,verre d'huile,gouss...</td>\n",
       "      <td>Sauce</td>\n",
       "      <td>https://www.marmiton.org/recettes/recette_mari...</td>\n",
       "      <td></td>\n",
       "    </tr>\n",
       "    <tr>\n",
       "      <th>72454</th>\n",
       "      <td>Marinade pour barbecue aux herbes et aux épices</td>\n",
       "      <td>verre d'huile d'olive,verre d'huile tournesol,...</td>\n",
       "      <td>Sauce</td>\n",
       "      <td>https://www.marmiton.org/recettes/recette_mari...</td>\n",
       "      <td></td>\n",
       "    </tr>\n",
       "    <tr>\n",
       "      <th>76626</th>\n",
       "      <td>Marinade aux épices et vin blanc, pour barbecue</td>\n",
       "      <td>cl d'huile d'olive, vin blanc sec,Herbes Prove...</td>\n",
       "      <td>Sauce</td>\n",
       "      <td>https://www.marmiton.org/recettes/recette_mari...</td>\n",
       "      <td></td>\n",
       "    </tr>\n",
       "    <tr>\n",
       "      <th>78261</th>\n",
       "      <td>Marinade au coca-cola pour barbecue</td>\n",
       "      <td>cuillère à soupe ketchup,cuillère à soupe mout...</td>\n",
       "      <td>Sauce</td>\n",
       "      <td>https://www.marmiton.org/recettes/recette_mari...</td>\n",
       "      <td>https://image.afcdn.com/recipe/20140824/42339_...</td>\n",
       "    </tr>\n",
       "    <tr>\n",
       "      <th>78263</th>\n",
       "      <td>Dips aux courgettes (pour grill ou barbecue)</td>\n",
       "      <td>kiwi, courgette,ml vinaigre de vin, sucre,g d'...</td>\n",
       "      <td>Sauce</td>\n",
       "      <td>https://www.marmiton.org/recettes/recette_dips...</td>\n",
       "      <td></td>\n",
       "    </tr>\n",
       "    <tr>\n",
       "      <th>78264</th>\n",
       "      <td>Sucré-salé de tomates (pour grill ou barbecue)</td>\n",
       "      <td>ml ketchup,pomme,oignon</td>\n",
       "      <td>Sauce</td>\n",
       "      <td>https://www.marmiton.org/recettes/recette_sucr...</td>\n",
       "      <td></td>\n",
       "    </tr>\n",
       "    <tr>\n",
       "      <th>78325</th>\n",
       "      <td>Marinade pour barbecue</td>\n",
       "      <td>miel liquide,huile d'olive,vinaigre balsamique...</td>\n",
       "      <td>Sauce</td>\n",
       "      <td>https://www.marmiton.org/recettes/recette_mari...</td>\n",
       "      <td>https://image.afcdn.com/recipe/20140706/34602_...</td>\n",
       "    </tr>\n",
       "    <tr>\n",
       "      <th>78326</th>\n",
       "      <td>Marinade pour barbecue</td>\n",
       "      <td>miel liquide,huile d'olive,vinaigre balsamique...</td>\n",
       "      <td>Sauce</td>\n",
       "      <td>https://www.marmiton.org/recettes/recette_mari...</td>\n",
       "      <td>https://image.afcdn.com/recipe/20140706/34602_...</td>\n",
       "    </tr>\n",
       "  </tbody>\n",
       "</table>\n",
       "</div>"
      ],
      "text/plain": [
       "                                                   Title  \\\n",
       "12025                             Marinade pour barbecue   \n",
       "30985                   Sauce piquante spéciale barbecue   \n",
       "33284                            Ma sauce barbecue à moi   \n",
       "33293                        Sauce barbecue au coca-cola   \n",
       "43465  Sauce barbecue sans morceaux d'échalote (micro...   \n",
       "59224  Assortiments de sauces faciles pour fondue, pi...   \n",
       "61324             Marinade pour viande rouge au barbecue   \n",
       "63648                   Marinade pour poulet au barbecue   \n",
       "72454    Marinade pour barbecue aux herbes et aux épices   \n",
       "76626    Marinade aux épices et vin blanc, pour barbecue   \n",
       "78261                Marinade au coca-cola pour barbecue   \n",
       "78263       Dips aux courgettes (pour grill ou barbecue)   \n",
       "78264     Sucré-salé de tomates (pour grill ou barbecue)   \n",
       "78325                             Marinade pour barbecue   \n",
       "78326                             Marinade pour barbecue   \n",
       "\n",
       "                                             Ingredients WorkingOrder  \\\n",
       "12025  miel liquide,huile d'olive,vinaigre balsamique...        Sauce   \n",
       "30985  oeuf,cuillère à café moutarde,Huile,petite boî...        Sauce   \n",
       "33284  bouillon,cl vin blanc,cl d'eau,échalote,cuillè...        Sauce   \n",
       "33293  cl coca,cl ketchup,cl sauce worcestershire,cl ...        Sauce   \n",
       "43465  cuillère à soupe d'huile d'olive,cuillère à so...        Sauce   \n",
       "59224                           mayonnaise,fromage blanc        Sauce   \n",
       "61324  roti boeuf,oignon,échalote,cl vin rouge,cl sau...        Sauce   \n",
       "63648  poulet,verre vin blanc sec,verre d'huile,gouss...        Sauce   \n",
       "72454  verre d'huile d'olive,verre d'huile tournesol,...        Sauce   \n",
       "76626  cl d'huile d'olive, vin blanc sec,Herbes Prove...        Sauce   \n",
       "78261  cuillère à soupe ketchup,cuillère à soupe mout...        Sauce   \n",
       "78263  kiwi, courgette,ml vinaigre de vin, sucre,g d'...        Sauce   \n",
       "78264                            ml ketchup,pomme,oignon        Sauce   \n",
       "78325  miel liquide,huile d'olive,vinaigre balsamique...        Sauce   \n",
       "78326  miel liquide,huile d'olive,vinaigre balsamique...        Sauce   \n",
       "\n",
       "                                                     Url  \\\n",
       "12025  https://www.marmiton.org/recettes/recette_mari...   \n",
       "30985  https://www.marmiton.org/recettes/recette_sauc...   \n",
       "33284  https://www.marmiton.org/recettes/recette_ma-s...   \n",
       "33293  https://www.marmiton.org/recettes/recette_sauc...   \n",
       "43465  https://www.marmiton.org/recettes/recette_sauc...   \n",
       "59224  https://www.marmiton.org/recettes/recette_asso...   \n",
       "61324  https://www.marmiton.org/recettes/recette_mari...   \n",
       "63648  https://www.marmiton.org/recettes/recette_mari...   \n",
       "72454  https://www.marmiton.org/recettes/recette_mari...   \n",
       "76626  https://www.marmiton.org/recettes/recette_mari...   \n",
       "78261  https://www.marmiton.org/recettes/recette_mari...   \n",
       "78263  https://www.marmiton.org/recettes/recette_dips...   \n",
       "78264  https://www.marmiton.org/recettes/recette_sucr...   \n",
       "78325  https://www.marmiton.org/recettes/recette_mari...   \n",
       "78326  https://www.marmiton.org/recettes/recette_mari...   \n",
       "\n",
       "                                              PictureUrl  \n",
       "12025  https://image.afcdn.com/recipe/20140706/34602_...  \n",
       "30985  https://image.afcdn.com/recipe/20130909/5346_w...  \n",
       "33284                                                     \n",
       "33293  https://image.afcdn.com/recipe/20180228/77794_...  \n",
       "43465                                                     \n",
       "59224                                                     \n",
       "61324                                                     \n",
       "63648                                                     \n",
       "72454                                                     \n",
       "76626                                                     \n",
       "78261  https://image.afcdn.com/recipe/20140824/42339_...  \n",
       "78263                                                     \n",
       "78264                                                     \n",
       "78325  https://image.afcdn.com/recipe/20140706/34602_...  \n",
       "78326  https://image.afcdn.com/recipe/20140706/34602_...  "
      ]
     },
     "execution_count": 54,
     "metadata": {},
     "output_type": "execute_result"
    }
   ],
   "source": [
    "df.loc[(df['Title'].str.contains('barbecue'))&(df['WorkingOrder']=='Sauce') ,:]"
   ]
  },
  {
   "cell_type": "code",
   "execution_count": 55,
   "metadata": {},
   "outputs": [
    {
     "data": {
      "text/plain": [
       "56258"
      ]
     },
     "execution_count": 55,
     "metadata": {},
     "output_type": "execute_result"
    }
   ],
   "source": [
    "len(np.unique(df['Title']))"
   ]
  },
  {
   "cell_type": "code",
   "execution_count": 56,
   "metadata": {},
   "outputs": [
    {
     "data": {
      "text/plain": [
       "81961"
      ]
     },
     "execution_count": 56,
     "metadata": {},
     "output_type": "execute_result"
    }
   ],
   "source": [
    "len(df)"
   ]
  },
  {
   "cell_type": "code",
   "execution_count": 57,
   "metadata": {},
   "outputs": [
    {
     "data": {
      "text/html": [
       "<div>\n",
       "<style scoped>\n",
       "    .dataframe tbody tr th:only-of-type {\n",
       "        vertical-align: middle;\n",
       "    }\n",
       "\n",
       "    .dataframe tbody tr th {\n",
       "        vertical-align: top;\n",
       "    }\n",
       "\n",
       "    .dataframe thead th {\n",
       "        text-align: right;\n",
       "    }\n",
       "</style>\n",
       "<table border=\"1\" class=\"dataframe\">\n",
       "  <thead>\n",
       "    <tr style=\"text-align: right;\">\n",
       "      <th></th>\n",
       "      <th>Title</th>\n",
       "      <th>Ingredients</th>\n",
       "      <th>WorkingOrder</th>\n",
       "      <th>Url</th>\n",
       "      <th>PictureUrl</th>\n",
       "    </tr>\n",
       "  </thead>\n",
       "  <tbody>\n",
       "    <tr>\n",
       "      <th>1177</th>\n",
       "      <td>Steak de haricots rouges</td>\n",
       "      <td>grosse boîte d'haricots rouges d’aucy,cuillère...</td>\n",
       "      <td>Plat principal</td>\n",
       "      <td>https://www.marmiton.org/recettes/recette_stea...</td>\n",
       "      <td>https://image.afcdn.com/recipe/20180524/79273_...</td>\n",
       "    </tr>\n",
       "    <tr>\n",
       "      <th>9705</th>\n",
       "      <td>Steak au grill à la sauce tomate</td>\n",
       "      <td>tranche rumsteak,cuillère à café poivre, beurr...</td>\n",
       "      <td>Plat principal</td>\n",
       "      <td>https://www.marmiton.org/recettes/recette_stea...</td>\n",
       "      <td></td>\n",
       "    </tr>\n",
       "    <tr>\n",
       "      <th>11378</th>\n",
       "      <td>Steak tartare</td>\n",
       "      <td>boeuf,jaune d'oeuf,cuillère à café moutarde d...</td>\n",
       "      <td>Plat principal</td>\n",
       "      <td>https://www.marmiton.org/recettes/recette_stea...</td>\n",
       "      <td>https://image.afcdn.com/recipe/20170125/63752_...</td>\n",
       "    </tr>\n",
       "    <tr>\n",
       "      <th>16912</th>\n",
       "      <td>Steak d'autruche sauce poivre vert</td>\n",
       "      <td>steak,cl vin blanc sec,cl crème fraîche épaiss...</td>\n",
       "      <td>Plat principal</td>\n",
       "      <td>https://www.marmiton.org/recettes/recette_stea...</td>\n",
       "      <td></td>\n",
       "    </tr>\n",
       "    <tr>\n",
       "      <th>16913</th>\n",
       "      <td>Steaks flambés au whisky, sauce au poivre</td>\n",
       "      <td>steak,Poivre blanc,Sel,cl crème fraîche,cl whisky</td>\n",
       "      <td>Plat principal</td>\n",
       "      <td>https://www.marmiton.org/recettes/recette_stea...</td>\n",
       "      <td></td>\n",
       "    </tr>\n",
       "    <tr>\n",
       "      <th>16915</th>\n",
       "      <td>Steaks hachés sauce au poivre vert</td>\n",
       "      <td>viande, beurre, crème fraîche,cuillère à soup...</td>\n",
       "      <td>Plat principal</td>\n",
       "      <td>https://www.marmiton.org/recettes/recette_stea...</td>\n",
       "      <td></td>\n",
       "    </tr>\n",
       "    <tr>\n",
       "      <th>16921</th>\n",
       "      <td>Steak flambé au cognac, sauce au poivre</td>\n",
       "      <td>steak,Poivre,Sel,Beurre,cuillère à soupe crème...</td>\n",
       "      <td>Plat principal</td>\n",
       "      <td>https://www.marmiton.org/recettes/recette_stea...</td>\n",
       "      <td></td>\n",
       "    </tr>\n",
       "    <tr>\n",
       "      <th>21300</th>\n",
       "      <td>Steak haché à la sicilienne</td>\n",
       "      <td>ail,demi tomate séchée,cuillère à soupe mayonn...</td>\n",
       "      <td>Plat principal</td>\n",
       "      <td>https://www.marmiton.org/recettes/recette_stea...</td>\n",
       "      <td></td>\n",
       "    </tr>\n",
       "    <tr>\n",
       "      <th>23033</th>\n",
       "      <td>Steak de haricots rouges</td>\n",
       "      <td>grosse boîte d'haricots rouges d’aucy,cuillère...</td>\n",
       "      <td>Plat principal</td>\n",
       "      <td>https://www.marmiton.org/recettes/recette_stea...</td>\n",
       "      <td>https://image.afcdn.com/recipe/20180524/79273_...</td>\n",
       "    </tr>\n",
       "    <tr>\n",
       "      <th>23034</th>\n",
       "      <td>Steak de haricots rouges</td>\n",
       "      <td>grosse boîte d'haricots rouges d’aucy,cuillère...</td>\n",
       "      <td>Plat principal</td>\n",
       "      <td>https://www.marmiton.org/recettes/recette_stea...</td>\n",
       "      <td>https://image.afcdn.com/recipe/20180524/79273_...</td>\n",
       "    </tr>\n",
       "    <tr>\n",
       "      <th>23134</th>\n",
       "      <td>Steaks végétariens aux haricots rouges</td>\n",
       "      <td>g d'haricots rouges,oignon,bonne cuillère à ca...</td>\n",
       "      <td>Plat principal</td>\n",
       "      <td>https://www.marmiton.org/recettes/recette_stea...</td>\n",
       "      <td>https://image.afcdn.com/recipe/20130406/41665_...</td>\n",
       "    </tr>\n",
       "    <tr>\n",
       "      <th>25644</th>\n",
       "      <td>Steaks végétariens</td>\n",
       "      <td>poivron,courgette,oignon,pomme terre,carotte,c...</td>\n",
       "      <td>Plat principal</td>\n",
       "      <td>https://www.marmiton.org/recettes/recette_stea...</td>\n",
       "      <td>https://image.afcdn.com/recipe/20161010/33503_...</td>\n",
       "    </tr>\n",
       "    <tr>\n",
       "      <th>25651</th>\n",
       "      <td>Steak végétarien</td>\n",
       "      <td>oeuf,cuillère à soupe farine,poivron, maïs,éch...</td>\n",
       "      <td>Accompagnement</td>\n",
       "      <td>https://www.marmiton.org/recettes/recette_stea...</td>\n",
       "      <td>https://image.afcdn.com/recipe/20150321/3640_w...</td>\n",
       "    </tr>\n",
       "    <tr>\n",
       "      <th>27807</th>\n",
       "      <td>Steak de pois chiche</td>\n",
       "      <td>pois chiches,oeuf, fromage frais,cuillère à s...</td>\n",
       "      <td>Plat principal</td>\n",
       "      <td>https://www.marmiton.org/recettes/recette_stea...</td>\n",
       "      <td></td>\n",
       "    </tr>\n",
       "    <tr>\n",
       "      <th>28391</th>\n",
       "      <td>Steak de requin à la sauce au curry</td>\n",
       "      <td>portion requin,filet d'huile,cl crème fraîche,...</td>\n",
       "      <td>Plat principal</td>\n",
       "      <td>https://www.marmiton.org/recettes/recette_stea...</td>\n",
       "      <td>https://image.afcdn.com/recipe/20140813/66311_...</td>\n",
       "    </tr>\n",
       "    <tr>\n",
       "      <th>31298</th>\n",
       "      <td>Steaks de dinde hachée faits maison</td>\n",
       "      <td>dindonneau, pain de mie,oeuf, beurre,échalote...</td>\n",
       "      <td>Plat principal</td>\n",
       "      <td>https://www.marmiton.org/recettes/recette_stea...</td>\n",
       "      <td></td>\n",
       "    </tr>\n",
       "    <tr>\n",
       "      <th>31325</th>\n",
       "      <td>Steak de Soja simple et savoureux</td>\n",
       "      <td>tofu,oignon,poignée carotte,oignon,gousse d'a...</td>\n",
       "      <td>Plat principal</td>\n",
       "      <td>https://www.marmiton.org/recettes/recette_stea...</td>\n",
       "      <td>https://image.afcdn.com/recipe/20130919/48419_...</td>\n",
       "    </tr>\n",
       "    <tr>\n",
       "      <th>31608</th>\n",
       "      <td>Steak tartare végétarien</td>\n",
       "      <td>carotte,cuillère à soupe câpres,poivron rouge...</td>\n",
       "      <td>Plat principal</td>\n",
       "      <td>https://www.marmiton.org/recettes/recette_stea...</td>\n",
       "      <td></td>\n",
       "    </tr>\n",
       "    <tr>\n",
       "      <th>31889</th>\n",
       "      <td>Steak au roquefort</td>\n",
       "      <td>steak, bleu, crème,verre calvados,Huile d'oliv...</td>\n",
       "      <td>Plat principal</td>\n",
       "      <td>https://www.marmiton.org/recettes/recette_stea...</td>\n",
       "      <td>https://image.afcdn.com/recipe/20140713/5495_w...</td>\n",
       "    </tr>\n",
       "    <tr>\n",
       "      <th>32496</th>\n",
       "      <td>Steak végétal aux céréales et légumes</td>\n",
       "      <td>boulgour, lentilles corail,oignon rouge,poire...</td>\n",
       "      <td>Plat principal</td>\n",
       "      <td>https://www.marmiton.org/recettes/recette_stea...</td>\n",
       "      <td>https://image.afcdn.com/recipe/20141130/32910_...</td>\n",
       "    </tr>\n",
       "    <tr>\n",
       "      <th>32503</th>\n",
       "      <td>Steaks d'autruche aux pommes</td>\n",
       "      <td>steak,oignon,dl jus de pomme,citron,cuillère à...</td>\n",
       "      <td>Plat principal</td>\n",
       "      <td>https://www.marmiton.org/recettes/recette_stea...</td>\n",
       "      <td>https://image.afcdn.com/recipe/20161006/5057_w...</td>\n",
       "    </tr>\n",
       "    <tr>\n",
       "      <th>34840</th>\n",
       "      <td>Steak haché à la chinoise</td>\n",
       "      <td>steak,cuillère à soupe d'huile,échalote,cuillè...</td>\n",
       "      <td>Plat principal</td>\n",
       "      <td>https://www.marmiton.org/recettes/recette_stea...</td>\n",
       "      <td></td>\n",
       "    </tr>\n",
       "    <tr>\n",
       "      <th>35039</th>\n",
       "      <td>Steak de thon au poivre et wasabi</td>\n",
       "      <td>steak,cuillère à café soja,cuillère poivre,Hui...</td>\n",
       "      <td>Plat principal</td>\n",
       "      <td>https://www.marmiton.org/recettes/recette_stea...</td>\n",
       "      <td></td>\n",
       "    </tr>\n",
       "    <tr>\n",
       "      <th>36017</th>\n",
       "      <td>Steak à la portugaise</td>\n",
       "      <td>steak,tranche jambon fumé,demi verre porto,feu...</td>\n",
       "      <td>Plat principal</td>\n",
       "      <td>https://www.marmiton.org/recettes/recette_stea...</td>\n",
       "      <td></td>\n",
       "    </tr>\n",
       "    <tr>\n",
       "      <th>38547</th>\n",
       "      <td>Steak de thon rouge sur lit de foie gras</td>\n",
       "      <td>steak, Foie gras, roquette,cuillère à café d'...</td>\n",
       "      <td>Plat principal</td>\n",
       "      <td>https://www.marmiton.org/recettes/recette_stea...</td>\n",
       "      <td></td>\n",
       "    </tr>\n",
       "    <tr>\n",
       "      <th>39798</th>\n",
       "      <td>Steak de cheval aux épices</td>\n",
       "      <td>steak,Légume,portion roquefort,cuillère à café...</td>\n",
       "      <td>Plat principal</td>\n",
       "      <td>https://www.marmiton.org/recettes/recette_stea...</td>\n",
       "      <td></td>\n",
       "    </tr>\n",
       "    <tr>\n",
       "      <th>45582</th>\n",
       "      <td>Steak haché et jambon</td>\n",
       "      <td>boeuf,centimètre blanc de poireaux, jambon,cu...</td>\n",
       "      <td>Plat principal</td>\n",
       "      <td>https://www.marmiton.org/recettes/recette_stea...</td>\n",
       "      <td>https://image.afcdn.com/recipe/20170905/71743_...</td>\n",
       "    </tr>\n",
       "    <tr>\n",
       "      <th>46008</th>\n",
       "      <td>Steaks hachés au roquefort</td>\n",
       "      <td>viande, roquefort,Huile d'olive,Beurre,Poivre...</td>\n",
       "      <td>Plat principal</td>\n",
       "      <td>https://www.marmiton.org/recettes/recette_stea...</td>\n",
       "      <td></td>\n",
       "    </tr>\n",
       "    <tr>\n",
       "      <th>49701</th>\n",
       "      <td>Steak tartare à l'américaine</td>\n",
       "      <td>boeuf haché,échalote, persil,cornichon,jaune ...</td>\n",
       "      <td>Plat principal</td>\n",
       "      <td>https://www.marmiton.org/recettes/recette_stea...</td>\n",
       "      <td></td>\n",
       "    </tr>\n",
       "    <tr>\n",
       "      <th>50154</th>\n",
       "      <td>Steak au poivre flambé au cognac</td>\n",
       "      <td>pavé rumsteck,cuillère à soupe poivre,cuillère...</td>\n",
       "      <td>Plat principal</td>\n",
       "      <td>https://www.marmiton.org/recettes/recette_stea...</td>\n",
       "      <td></td>\n",
       "    </tr>\n",
       "    <tr>\n",
       "      <th>...</th>\n",
       "      <td>...</td>\n",
       "      <td>...</td>\n",
       "      <td>...</td>\n",
       "      <td>...</td>\n",
       "      <td>...</td>\n",
       "    </tr>\n",
       "    <tr>\n",
       "      <th>58621</th>\n",
       "      <td>Steaks hachés à l'africaine</td>\n",
       "      <td>oignon,gousse d'ail,g d'abricot,tranche pain d...</td>\n",
       "      <td>Plat principal</td>\n",
       "      <td>https://www.marmiton.org/recettes/recette_stea...</td>\n",
       "      <td></td>\n",
       "    </tr>\n",
       "    <tr>\n",
       "      <th>59295</th>\n",
       "      <td>Steak tartare et riz aux légumes</td>\n",
       "      <td>viande hachée,Mayonnaise,Ketchup,oignon,échal...</td>\n",
       "      <td>Plat principal</td>\n",
       "      <td>https://www.marmiton.org/recettes/recette_stea...</td>\n",
       "      <td></td>\n",
       "    </tr>\n",
       "    <tr>\n",
       "      <th>59392</th>\n",
       "      <td>Steak poire roquefort</td>\n",
       "      <td>steak,poire, roquefort,Beurre,Poivre,Sel</td>\n",
       "      <td>Plat principal</td>\n",
       "      <td>https://www.marmiton.org/recettes/recette_stea...</td>\n",
       "      <td></td>\n",
       "    </tr>\n",
       "    <tr>\n",
       "      <th>60747</th>\n",
       "      <td>Steaks hachés à la mode jurassienne</td>\n",
       "      <td>viande,oeuf, gruyère râpé,verre d'eau,oignon,...</td>\n",
       "      <td>Plat principal</td>\n",
       "      <td>https://www.marmiton.org/recettes/recette_stea...</td>\n",
       "      <td>https://image.afcdn.com/recipe/20130215/32446_...</td>\n",
       "    </tr>\n",
       "    <tr>\n",
       "      <th>61251</th>\n",
       "      <td>Steak de marlin en papillote</td>\n",
       "      <td>steak,tomate,échalote,cuillère à soupe ciboule...</td>\n",
       "      <td>Plat principal</td>\n",
       "      <td>https://www.marmiton.org/recettes/recette_stea...</td>\n",
       "      <td></td>\n",
       "    </tr>\n",
       "    <tr>\n",
       "      <th>62975</th>\n",
       "      <td>Steak à l'oriental</td>\n",
       "      <td>steak,gousse d'ail,cuillère à café sauce soja,...</td>\n",
       "      <td>Plat principal</td>\n",
       "      <td>https://www.marmiton.org/recettes/recette_stea...</td>\n",
       "      <td></td>\n",
       "    </tr>\n",
       "    <tr>\n",
       "      <th>64606</th>\n",
       "      <td>Steak de poulet pané</td>\n",
       "      <td>filet poulet,oignon,Chapelure,oeuf,cuillère à ...</td>\n",
       "      <td>Plat principal</td>\n",
       "      <td>https://www.marmiton.org/recettes/recette_stea...</td>\n",
       "      <td>https://image.afcdn.com/recipe/20130310/47252_...</td>\n",
       "    </tr>\n",
       "    <tr>\n",
       "      <th>66298</th>\n",
       "      <td>Steak de thon mariné aux agrumes</td>\n",
       "      <td>steak,citron vert,orange,cuillère à soupe d'hu...</td>\n",
       "      <td>Plat principal</td>\n",
       "      <td>https://www.marmiton.org/recettes/recette_stea...</td>\n",
       "      <td></td>\n",
       "    </tr>\n",
       "    <tr>\n",
       "      <th>66301</th>\n",
       "      <td>Steak de thon mariné à l'estragon</td>\n",
       "      <td>steak,cuillère à soupe d'huile d'olive,Poivre,...</td>\n",
       "      <td>Plat principal</td>\n",
       "      <td>https://www.marmiton.org/recettes/recette_stea...</td>\n",
       "      <td></td>\n",
       "    </tr>\n",
       "    <tr>\n",
       "      <th>68398</th>\n",
       "      <td>Steak de thon aux pommes de terre sauce piquante</td>\n",
       "      <td>steak,boîte tomate,cuillère à soupe concentré ...</td>\n",
       "      <td>Plat principal</td>\n",
       "      <td>https://www.marmiton.org/recettes/recette_stea...</td>\n",
       "      <td>https://image.afcdn.com/recipe/20100120/2407_w...</td>\n",
       "    </tr>\n",
       "    <tr>\n",
       "      <th>69769</th>\n",
       "      <td>Steak au grill à la sauce tomate</td>\n",
       "      <td>tranche rumsteak,cuillère à café poivre, beurr...</td>\n",
       "      <td>Plat principal</td>\n",
       "      <td>https://www.marmiton.org/recettes/recette_stea...</td>\n",
       "      <td></td>\n",
       "    </tr>\n",
       "    <tr>\n",
       "      <th>69770</th>\n",
       "      <td>Steak au grill à la sauce tomate</td>\n",
       "      <td>tranche rumsteak,cuillère à café poivre, beurr...</td>\n",
       "      <td>Plat principal</td>\n",
       "      <td>https://www.marmiton.org/recettes/recette_stea...</td>\n",
       "      <td></td>\n",
       "    </tr>\n",
       "    <tr>\n",
       "      <th>71006</th>\n",
       "      <td>Steaks à la pâte d'ail</td>\n",
       "      <td>boeuf,gousse d'ail,cuillère à soupe vinaigre,...</td>\n",
       "      <td>Plat principal</td>\n",
       "      <td>https://www.marmiton.org/recettes/recette_stea...</td>\n",
       "      <td></td>\n",
       "    </tr>\n",
       "    <tr>\n",
       "      <th>71471</th>\n",
       "      <td>Steak haché aux câpres</td>\n",
       "      <td>viande hachée,grosse cuillère moutarde,petite ...</td>\n",
       "      <td>Plat principal</td>\n",
       "      <td>https://www.marmiton.org/recettes/recette_stea...</td>\n",
       "      <td></td>\n",
       "    </tr>\n",
       "    <tr>\n",
       "      <th>71473</th>\n",
       "      <td>Steak haché aux épices</td>\n",
       "      <td>steak,oignon,pincée cumin,pincée paprika,pincé...</td>\n",
       "      <td>Plat principal</td>\n",
       "      <td>https://www.marmiton.org/recettes/recette_stea...</td>\n",
       "      <td></td>\n",
       "    </tr>\n",
       "    <tr>\n",
       "      <th>71474</th>\n",
       "      <td>Steak haché de veau épicé</td>\n",
       "      <td>viande,oeuf, farine,oignon,gousse d'ail,Tabas...</td>\n",
       "      <td>Plat principal</td>\n",
       "      <td>https://www.marmiton.org/recettes/recette_stea...</td>\n",
       "      <td>https://image.afcdn.com/recipe/20151020/38436_...</td>\n",
       "    </tr>\n",
       "    <tr>\n",
       "      <th>71476</th>\n",
       "      <td>Steaks hachés à la campagnarde</td>\n",
       "      <td>steak,oignon, lardons fumés,Huile colza</td>\n",
       "      <td>Plat principal</td>\n",
       "      <td>https://www.marmiton.org/recettes/recette_stea...</td>\n",
       "      <td></td>\n",
       "    </tr>\n",
       "    <tr>\n",
       "      <th>71477</th>\n",
       "      <td>Steak haché aux oignons caramélisés</td>\n",
       "      <td>viande,oignon,gousse d'ail,cuillère à soupe v...</td>\n",
       "      <td>Plat principal</td>\n",
       "      <td>https://www.marmiton.org/recettes/recette_stea...</td>\n",
       "      <td></td>\n",
       "    </tr>\n",
       "    <tr>\n",
       "      <th>71478</th>\n",
       "      <td>Steaks hachés à l'ancienne</td>\n",
       "      <td>viande hachée,cuillère à soupe moutarde,cuill...</td>\n",
       "      <td>Plat principal</td>\n",
       "      <td>https://www.marmiton.org/recettes/recette_stea...</td>\n",
       "      <td>https://image.afcdn.com/recipe/20130420/50935_...</td>\n",
       "    </tr>\n",
       "    <tr>\n",
       "      <th>74229</th>\n",
       "      <td>Steak de thon à la vanille</td>\n",
       "      <td>steak,cl crème fraîche liquide,gousse vanille,...</td>\n",
       "      <td>Plat principal</td>\n",
       "      <td>https://www.marmiton.org/recettes/recette_stea...</td>\n",
       "      <td></td>\n",
       "    </tr>\n",
       "    <tr>\n",
       "      <th>75526</th>\n",
       "      <td>Steak tartare</td>\n",
       "      <td>boeuf,jaune d'oeuf,cuillère à café moutarde d...</td>\n",
       "      <td>Plat principal</td>\n",
       "      <td>https://www.marmiton.org/recettes/recette_stea...</td>\n",
       "      <td>https://image.afcdn.com/recipe/20170125/63752_...</td>\n",
       "    </tr>\n",
       "    <tr>\n",
       "      <th>75527</th>\n",
       "      <td>Steak tartare</td>\n",
       "      <td>boeuf,jaune d'oeuf,cuillère à café moutarde d...</td>\n",
       "      <td>Plat principal</td>\n",
       "      <td>https://www.marmiton.org/recettes/recette_stea...</td>\n",
       "      <td>https://image.afcdn.com/recipe/20170125/63752_...</td>\n",
       "    </tr>\n",
       "    <tr>\n",
       "      <th>75528</th>\n",
       "      <td>Steak tartare à la coréenne</td>\n",
       "      <td>viande hachée,cuillère à café sésame,cuillère...</td>\n",
       "      <td>Plat principal</td>\n",
       "      <td>https://www.marmiton.org/recettes/recette_stea...</td>\n",
       "      <td>https://image.afcdn.com/recipe/20170506/17126_...</td>\n",
       "    </tr>\n",
       "    <tr>\n",
       "      <th>75529</th>\n",
       "      <td>Steak tartare maison</td>\n",
       "      <td>viande,jaune d'oeuf,échalote,cuillère à café ...</td>\n",
       "      <td>Plat principal</td>\n",
       "      <td>https://www.marmiton.org/recettes/recette_stea...</td>\n",
       "      <td>https://image.afcdn.com/recipe/20130127/23714_...</td>\n",
       "    </tr>\n",
       "    <tr>\n",
       "      <th>75530</th>\n",
       "      <td>Steak tartare au poivron rouge</td>\n",
       "      <td>steak,poivron rouge,échalote,cornichon,brin pe...</td>\n",
       "      <td>Plat principal</td>\n",
       "      <td>https://www.marmiton.org/recettes/recette_stea...</td>\n",
       "      <td></td>\n",
       "    </tr>\n",
       "    <tr>\n",
       "      <th>75553</th>\n",
       "      <td>Steaks de thon en croûte de sésame</td>\n",
       "      <td>steak,cuillère à soupe sauce soja,cuillère à s...</td>\n",
       "      <td>Plat principal</td>\n",
       "      <td>https://www.marmiton.org/recettes/recette_stea...</td>\n",
       "      <td>https://image.afcdn.com/recipe/20170222/57058_...</td>\n",
       "    </tr>\n",
       "    <tr>\n",
       "      <th>75588</th>\n",
       "      <td>Steaks aux échalotes et à la moutarde</td>\n",
       "      <td>steak,échalote,cl vin blanc sec,cuillère à sou...</td>\n",
       "      <td>Plat principal</td>\n",
       "      <td>https://www.marmiton.org/recettes/recette_stea...</td>\n",
       "      <td></td>\n",
       "    </tr>\n",
       "    <tr>\n",
       "      <th>75653</th>\n",
       "      <td>Steak d'autruche aux baies roses</td>\n",
       "      <td>steak, beurre,cuillère à soupe d'huile d'olive...</td>\n",
       "      <td>Plat principal</td>\n",
       "      <td>https://www.marmiton.org/recettes/recette_stea...</td>\n",
       "      <td></td>\n",
       "    </tr>\n",
       "    <tr>\n",
       "      <th>75938</th>\n",
       "      <td>Steaks un peu sauvages</td>\n",
       "      <td>fromage chèvre, boeuf haché,oignon,cuillère à ...</td>\n",
       "      <td>Plat principal</td>\n",
       "      <td>https://www.marmiton.org/recettes/recette_stea...</td>\n",
       "      <td></td>\n",
       "    </tr>\n",
       "    <tr>\n",
       "      <th>77265</th>\n",
       "      <td>Steaks farcis à la bière</td>\n",
       "      <td>viande hachée</td>\n",
       "      <td>Plat principal</td>\n",
       "      <td>https://www.marmiton.org/recettes/recette_stea...</td>\n",
       "      <td></td>\n",
       "    </tr>\n",
       "  </tbody>\n",
       "</table>\n",
       "<p>75 rows × 5 columns</p>\n",
       "</div>"
      ],
      "text/plain": [
       "                                                  Title  \\\n",
       "1177                           Steak de haricots rouges   \n",
       "9705                   Steak au grill à la sauce tomate   \n",
       "11378                                     Steak tartare   \n",
       "16912                Steak d'autruche sauce poivre vert   \n",
       "16913         Steaks flambés au whisky, sauce au poivre   \n",
       "16915                Steaks hachés sauce au poivre vert   \n",
       "16921           Steak flambé au cognac, sauce au poivre   \n",
       "21300                       Steak haché à la sicilienne   \n",
       "23033                          Steak de haricots rouges   \n",
       "23034                          Steak de haricots rouges   \n",
       "23134            Steaks végétariens aux haricots rouges   \n",
       "25644                                Steaks végétariens   \n",
       "25651                                  Steak végétarien   \n",
       "27807                              Steak de pois chiche   \n",
       "28391               Steak de requin à la sauce au curry   \n",
       "31298               Steaks de dinde hachée faits maison   \n",
       "31325                 Steak de Soja simple et savoureux   \n",
       "31608                          Steak tartare végétarien   \n",
       "31889                                Steak au roquefort   \n",
       "32496             Steak végétal aux céréales et légumes   \n",
       "32503                      Steaks d'autruche aux pommes   \n",
       "34840                         Steak haché à la chinoise   \n",
       "35039                 Steak de thon au poivre et wasabi   \n",
       "36017                             Steak à la portugaise   \n",
       "38547          Steak de thon rouge sur lit de foie gras   \n",
       "39798                        Steak de cheval aux épices   \n",
       "45582                             Steak haché et jambon   \n",
       "46008                        Steaks hachés au roquefort   \n",
       "49701                      Steak tartare à l'américaine   \n",
       "50154                  Steak au poivre flambé au cognac   \n",
       "...                                                 ...   \n",
       "58621                       Steaks hachés à l'africaine   \n",
       "59295                  Steak tartare et riz aux légumes   \n",
       "59392                             Steak poire roquefort   \n",
       "60747               Steaks hachés à la mode jurassienne   \n",
       "61251                      Steak de marlin en papillote   \n",
       "62975                                Steak à l'oriental   \n",
       "64606                              Steak de poulet pané   \n",
       "66298                  Steak de thon mariné aux agrumes   \n",
       "66301                 Steak de thon mariné à l'estragon   \n",
       "68398  Steak de thon aux pommes de terre sauce piquante   \n",
       "69769                  Steak au grill à la sauce tomate   \n",
       "69770                  Steak au grill à la sauce tomate   \n",
       "71006                            Steaks à la pâte d'ail   \n",
       "71471                            Steak haché aux câpres   \n",
       "71473                            Steak haché aux épices   \n",
       "71474                         Steak haché de veau épicé   \n",
       "71476                    Steaks hachés à la campagnarde   \n",
       "71477               Steak haché aux oignons caramélisés   \n",
       "71478                        Steaks hachés à l'ancienne   \n",
       "74229                        Steak de thon à la vanille   \n",
       "75526                                     Steak tartare   \n",
       "75527                                     Steak tartare   \n",
       "75528                       Steak tartare à la coréenne   \n",
       "75529                              Steak tartare maison   \n",
       "75530                    Steak tartare au poivron rouge   \n",
       "75553                Steaks de thon en croûte de sésame   \n",
       "75588             Steaks aux échalotes et à la moutarde   \n",
       "75653                  Steak d'autruche aux baies roses   \n",
       "75938                            Steaks un peu sauvages   \n",
       "77265                          Steaks farcis à la bière   \n",
       "\n",
       "                                             Ingredients    WorkingOrder  \\\n",
       "1177   grosse boîte d'haricots rouges d’aucy,cuillère...  Plat principal   \n",
       "9705   tranche rumsteak,cuillère à café poivre, beurr...  Plat principal   \n",
       "11378   boeuf,jaune d'oeuf,cuillère à café moutarde d...  Plat principal   \n",
       "16912  steak,cl vin blanc sec,cl crème fraîche épaiss...  Plat principal   \n",
       "16913  steak,Poivre blanc,Sel,cl crème fraîche,cl whisky  Plat principal   \n",
       "16915   viande, beurre, crème fraîche,cuillère à soup...  Plat principal   \n",
       "16921  steak,Poivre,Sel,Beurre,cuillère à soupe crème...  Plat principal   \n",
       "21300  ail,demi tomate séchée,cuillère à soupe mayonn...  Plat principal   \n",
       "23033  grosse boîte d'haricots rouges d’aucy,cuillère...  Plat principal   \n",
       "23034  grosse boîte d'haricots rouges d’aucy,cuillère...  Plat principal   \n",
       "23134  g d'haricots rouges,oignon,bonne cuillère à ca...  Plat principal   \n",
       "25644  poivron,courgette,oignon,pomme terre,carotte,c...  Plat principal   \n",
       "25651  oeuf,cuillère à soupe farine,poivron, maïs,éch...  Accompagnement   \n",
       "27807   pois chiches,oeuf, fromage frais,cuillère à s...  Plat principal   \n",
       "28391  portion requin,filet d'huile,cl crème fraîche,...  Plat principal   \n",
       "31298   dindonneau, pain de mie,oeuf, beurre,échalote...  Plat principal   \n",
       "31325   tofu,oignon,poignée carotte,oignon,gousse d'a...  Plat principal   \n",
       "31608   carotte,cuillère à soupe câpres,poivron rouge...  Plat principal   \n",
       "31889  steak, bleu, crème,verre calvados,Huile d'oliv...  Plat principal   \n",
       "32496   boulgour, lentilles corail,oignon rouge,poire...  Plat principal   \n",
       "32503  steak,oignon,dl jus de pomme,citron,cuillère à...  Plat principal   \n",
       "34840  steak,cuillère à soupe d'huile,échalote,cuillè...  Plat principal   \n",
       "35039  steak,cuillère à café soja,cuillère poivre,Hui...  Plat principal   \n",
       "36017  steak,tranche jambon fumé,demi verre porto,feu...  Plat principal   \n",
       "38547   steak, Foie gras, roquette,cuillère à café d'...  Plat principal   \n",
       "39798  steak,Légume,portion roquefort,cuillère à café...  Plat principal   \n",
       "45582   boeuf,centimètre blanc de poireaux, jambon,cu...  Plat principal   \n",
       "46008   viande, roquefort,Huile d'olive,Beurre,Poivre...  Plat principal   \n",
       "49701   boeuf haché,échalote, persil,cornichon,jaune ...  Plat principal   \n",
       "50154  pavé rumsteck,cuillère à soupe poivre,cuillère...  Plat principal   \n",
       "...                                                  ...             ...   \n",
       "58621  oignon,gousse d'ail,g d'abricot,tranche pain d...  Plat principal   \n",
       "59295   viande hachée,Mayonnaise,Ketchup,oignon,échal...  Plat principal   \n",
       "59392           steak,poire, roquefort,Beurre,Poivre,Sel  Plat principal   \n",
       "60747   viande,oeuf, gruyère râpé,verre d'eau,oignon,...  Plat principal   \n",
       "61251  steak,tomate,échalote,cuillère à soupe ciboule...  Plat principal   \n",
       "62975  steak,gousse d'ail,cuillère à café sauce soja,...  Plat principal   \n",
       "64606  filet poulet,oignon,Chapelure,oeuf,cuillère à ...  Plat principal   \n",
       "66298  steak,citron vert,orange,cuillère à soupe d'hu...  Plat principal   \n",
       "66301  steak,cuillère à soupe d'huile d'olive,Poivre,...  Plat principal   \n",
       "68398  steak,boîte tomate,cuillère à soupe concentré ...  Plat principal   \n",
       "69769  tranche rumsteak,cuillère à café poivre, beurr...  Plat principal   \n",
       "69770  tranche rumsteak,cuillère à café poivre, beurr...  Plat principal   \n",
       "71006   boeuf,gousse d'ail,cuillère à soupe vinaigre,...  Plat principal   \n",
       "71471  viande hachée,grosse cuillère moutarde,petite ...  Plat principal   \n",
       "71473  steak,oignon,pincée cumin,pincée paprika,pincé...  Plat principal   \n",
       "71474   viande,oeuf, farine,oignon,gousse d'ail,Tabas...  Plat principal   \n",
       "71476            steak,oignon, lardons fumés,Huile colza  Plat principal   \n",
       "71477   viande,oignon,gousse d'ail,cuillère à soupe v...  Plat principal   \n",
       "71478   viande hachée,cuillère à soupe moutarde,cuill...  Plat principal   \n",
       "74229  steak,cl crème fraîche liquide,gousse vanille,...  Plat principal   \n",
       "75526   boeuf,jaune d'oeuf,cuillère à café moutarde d...  Plat principal   \n",
       "75527   boeuf,jaune d'oeuf,cuillère à café moutarde d...  Plat principal   \n",
       "75528   viande hachée,cuillère à café sésame,cuillère...  Plat principal   \n",
       "75529   viande,jaune d'oeuf,échalote,cuillère à café ...  Plat principal   \n",
       "75530  steak,poivron rouge,échalote,cornichon,brin pe...  Plat principal   \n",
       "75553  steak,cuillère à soupe sauce soja,cuillère à s...  Plat principal   \n",
       "75588  steak,échalote,cl vin blanc sec,cuillère à sou...  Plat principal   \n",
       "75653  steak, beurre,cuillère à soupe d'huile d'olive...  Plat principal   \n",
       "75938  fromage chèvre, boeuf haché,oignon,cuillère à ...  Plat principal   \n",
       "77265                                      viande hachée  Plat principal   \n",
       "\n",
       "                                                     Url  \\\n",
       "1177   https://www.marmiton.org/recettes/recette_stea...   \n",
       "9705   https://www.marmiton.org/recettes/recette_stea...   \n",
       "11378  https://www.marmiton.org/recettes/recette_stea...   \n",
       "16912  https://www.marmiton.org/recettes/recette_stea...   \n",
       "16913  https://www.marmiton.org/recettes/recette_stea...   \n",
       "16915  https://www.marmiton.org/recettes/recette_stea...   \n",
       "16921  https://www.marmiton.org/recettes/recette_stea...   \n",
       "21300  https://www.marmiton.org/recettes/recette_stea...   \n",
       "23033  https://www.marmiton.org/recettes/recette_stea...   \n",
       "23034  https://www.marmiton.org/recettes/recette_stea...   \n",
       "23134  https://www.marmiton.org/recettes/recette_stea...   \n",
       "25644  https://www.marmiton.org/recettes/recette_stea...   \n",
       "25651  https://www.marmiton.org/recettes/recette_stea...   \n",
       "27807  https://www.marmiton.org/recettes/recette_stea...   \n",
       "28391  https://www.marmiton.org/recettes/recette_stea...   \n",
       "31298  https://www.marmiton.org/recettes/recette_stea...   \n",
       "31325  https://www.marmiton.org/recettes/recette_stea...   \n",
       "31608  https://www.marmiton.org/recettes/recette_stea...   \n",
       "31889  https://www.marmiton.org/recettes/recette_stea...   \n",
       "32496  https://www.marmiton.org/recettes/recette_stea...   \n",
       "32503  https://www.marmiton.org/recettes/recette_stea...   \n",
       "34840  https://www.marmiton.org/recettes/recette_stea...   \n",
       "35039  https://www.marmiton.org/recettes/recette_stea...   \n",
       "36017  https://www.marmiton.org/recettes/recette_stea...   \n",
       "38547  https://www.marmiton.org/recettes/recette_stea...   \n",
       "39798  https://www.marmiton.org/recettes/recette_stea...   \n",
       "45582  https://www.marmiton.org/recettes/recette_stea...   \n",
       "46008  https://www.marmiton.org/recettes/recette_stea...   \n",
       "49701  https://www.marmiton.org/recettes/recette_stea...   \n",
       "50154  https://www.marmiton.org/recettes/recette_stea...   \n",
       "...                                                  ...   \n",
       "58621  https://www.marmiton.org/recettes/recette_stea...   \n",
       "59295  https://www.marmiton.org/recettes/recette_stea...   \n",
       "59392  https://www.marmiton.org/recettes/recette_stea...   \n",
       "60747  https://www.marmiton.org/recettes/recette_stea...   \n",
       "61251  https://www.marmiton.org/recettes/recette_stea...   \n",
       "62975  https://www.marmiton.org/recettes/recette_stea...   \n",
       "64606  https://www.marmiton.org/recettes/recette_stea...   \n",
       "66298  https://www.marmiton.org/recettes/recette_stea...   \n",
       "66301  https://www.marmiton.org/recettes/recette_stea...   \n",
       "68398  https://www.marmiton.org/recettes/recette_stea...   \n",
       "69769  https://www.marmiton.org/recettes/recette_stea...   \n",
       "69770  https://www.marmiton.org/recettes/recette_stea...   \n",
       "71006  https://www.marmiton.org/recettes/recette_stea...   \n",
       "71471  https://www.marmiton.org/recettes/recette_stea...   \n",
       "71473  https://www.marmiton.org/recettes/recette_stea...   \n",
       "71474  https://www.marmiton.org/recettes/recette_stea...   \n",
       "71476  https://www.marmiton.org/recettes/recette_stea...   \n",
       "71477  https://www.marmiton.org/recettes/recette_stea...   \n",
       "71478  https://www.marmiton.org/recettes/recette_stea...   \n",
       "74229  https://www.marmiton.org/recettes/recette_stea...   \n",
       "75526  https://www.marmiton.org/recettes/recette_stea...   \n",
       "75527  https://www.marmiton.org/recettes/recette_stea...   \n",
       "75528  https://www.marmiton.org/recettes/recette_stea...   \n",
       "75529  https://www.marmiton.org/recettes/recette_stea...   \n",
       "75530  https://www.marmiton.org/recettes/recette_stea...   \n",
       "75553  https://www.marmiton.org/recettes/recette_stea...   \n",
       "75588  https://www.marmiton.org/recettes/recette_stea...   \n",
       "75653  https://www.marmiton.org/recettes/recette_stea...   \n",
       "75938  https://www.marmiton.org/recettes/recette_stea...   \n",
       "77265  https://www.marmiton.org/recettes/recette_stea...   \n",
       "\n",
       "                                              PictureUrl  \n",
       "1177   https://image.afcdn.com/recipe/20180524/79273_...  \n",
       "9705                                                      \n",
       "11378  https://image.afcdn.com/recipe/20170125/63752_...  \n",
       "16912                                                     \n",
       "16913                                                     \n",
       "16915                                                     \n",
       "16921                                                     \n",
       "21300                                                     \n",
       "23033  https://image.afcdn.com/recipe/20180524/79273_...  \n",
       "23034  https://image.afcdn.com/recipe/20180524/79273_...  \n",
       "23134  https://image.afcdn.com/recipe/20130406/41665_...  \n",
       "25644  https://image.afcdn.com/recipe/20161010/33503_...  \n",
       "25651  https://image.afcdn.com/recipe/20150321/3640_w...  \n",
       "27807                                                     \n",
       "28391  https://image.afcdn.com/recipe/20140813/66311_...  \n",
       "31298                                                     \n",
       "31325  https://image.afcdn.com/recipe/20130919/48419_...  \n",
       "31608                                                     \n",
       "31889  https://image.afcdn.com/recipe/20140713/5495_w...  \n",
       "32496  https://image.afcdn.com/recipe/20141130/32910_...  \n",
       "32503  https://image.afcdn.com/recipe/20161006/5057_w...  \n",
       "34840                                                     \n",
       "35039                                                     \n",
       "36017                                                     \n",
       "38547                                                     \n",
       "39798                                                     \n",
       "45582  https://image.afcdn.com/recipe/20170905/71743_...  \n",
       "46008                                                     \n",
       "49701                                                     \n",
       "50154                                                     \n",
       "...                                                  ...  \n",
       "58621                                                     \n",
       "59295                                                     \n",
       "59392                                                     \n",
       "60747  https://image.afcdn.com/recipe/20130215/32446_...  \n",
       "61251                                                     \n",
       "62975                                                     \n",
       "64606  https://image.afcdn.com/recipe/20130310/47252_...  \n",
       "66298                                                     \n",
       "66301                                                     \n",
       "68398  https://image.afcdn.com/recipe/20100120/2407_w...  \n",
       "69769                                                     \n",
       "69770                                                     \n",
       "71006                                                     \n",
       "71471                                                     \n",
       "71473                                                     \n",
       "71474  https://image.afcdn.com/recipe/20151020/38436_...  \n",
       "71476                                                     \n",
       "71477                                                     \n",
       "71478  https://image.afcdn.com/recipe/20130420/50935_...  \n",
       "74229                                                     \n",
       "75526  https://image.afcdn.com/recipe/20170125/63752_...  \n",
       "75527  https://image.afcdn.com/recipe/20170125/63752_...  \n",
       "75528  https://image.afcdn.com/recipe/20170506/17126_...  \n",
       "75529  https://image.afcdn.com/recipe/20130127/23714_...  \n",
       "75530                                                     \n",
       "75553  https://image.afcdn.com/recipe/20170222/57058_...  \n",
       "75588                                                     \n",
       "75653                                                     \n",
       "75938                                                     \n",
       "77265                                                     \n",
       "\n",
       "[75 rows x 5 columns]"
      ]
     },
     "execution_count": 57,
     "metadata": {},
     "output_type": "execute_result"
    }
   ],
   "source": [
    "df.loc[(df['Title'].str.contains('Steak')),:]"
   ]
  },
  {
   "cell_type": "code",
   "execution_count": 58,
   "metadata": {},
   "outputs": [],
   "source": [
    "df1=html_preprocessing('E:/data/recette_Marmiton_V1/assets','output.xml')"
   ]
  },
  {
   "cell_type": "code",
   "execution_count": 59,
   "metadata": {},
   "outputs": [
    {
     "data": {
      "text/plain": [
       "(81961, 5)"
      ]
     },
     "execution_count": 59,
     "metadata": {},
     "output_type": "execute_result"
    }
   ],
   "source": [
    "df1.shape"
   ]
  },
  {
   "cell_type": "code",
   "execution_count": 60,
   "metadata": {},
   "outputs": [
    {
     "data": {
      "text/html": [
       "<div>\n",
       "<style scoped>\n",
       "    .dataframe tbody tr th:only-of-type {\n",
       "        vertical-align: middle;\n",
       "    }\n",
       "\n",
       "    .dataframe tbody tr th {\n",
       "        vertical-align: top;\n",
       "    }\n",
       "\n",
       "    .dataframe thead th {\n",
       "        text-align: right;\n",
       "    }\n",
       "</style>\n",
       "<table border=\"1\" class=\"dataframe\">\n",
       "  <thead>\n",
       "    <tr style=\"text-align: right;\">\n",
       "      <th></th>\n",
       "      <th>Title</th>\n",
       "      <th>Ingredients</th>\n",
       "      <th>WorkingOrder</th>\n",
       "      <th>Url</th>\n",
       "      <th>PictureUrl</th>\n",
       "    </tr>\n",
       "  </thead>\n",
       "  <tbody>\n",
       "    <tr>\n",
       "      <th>81956</th>\n",
       "      <td>Revani (gâteau de semoule turc au sirop)</td>\n",
       "      <td>oeuf,verre yaourt nature,verre d'huile,verre f...</td>\n",
       "      <td>Dessert</td>\n",
       "      <td>https://www.marmiton.org/recettes/recette_reva...</td>\n",
       "      <td>https://image.afcdn.com/recipe/20140814/828_w4...</td>\n",
       "    </tr>\n",
       "    <tr>\n",
       "      <th>81957</th>\n",
       "      <td>Salade d'oranges du Maroc</td>\n",
       "      <td>orange,sachet pruneau,Eau fleur d'oranger,Amande</td>\n",
       "      <td>Dessert</td>\n",
       "      <td>https://www.marmiton.org/recettes/recette_sala...</td>\n",
       "      <td>https://image.afcdn.com/recipe/20140814/61613_...</td>\n",
       "    </tr>\n",
       "    <tr>\n",
       "      <th>81958</th>\n",
       "      <td>Muffins au thé vert et gingembre</td>\n",
       "      <td>farine, sucre, beurre demi sel,cl lait,oeuf,s...</td>\n",
       "      <td>Dessert</td>\n",
       "      <td>https://www.marmiton.org/recettes/recette_muff...</td>\n",
       "      <td>https://image.afcdn.com/recipe/20100120/47186_...</td>\n",
       "    </tr>\n",
       "    <tr>\n",
       "      <th>81959</th>\n",
       "      <td>Salade d'oranges du Maroc</td>\n",
       "      <td>orange,sachet pruneau,Eau fleur d'oranger,Amande</td>\n",
       "      <td>Dessert</td>\n",
       "      <td>https://www.marmiton.org/recettes/recette_sala...</td>\n",
       "      <td>https://image.afcdn.com/recipe/20140814/61613_...</td>\n",
       "    </tr>\n",
       "    <tr>\n",
       "      <th>81960</th>\n",
       "      <td>Muffins au thé vert et gingembre</td>\n",
       "      <td>farine, sucre, beurre demi sel,cl lait,oeuf,s...</td>\n",
       "      <td>Dessert</td>\n",
       "      <td>https://www.marmiton.org/recettes/recette_muff...</td>\n",
       "      <td>https://image.afcdn.com/recipe/20100120/47186_...</td>\n",
       "    </tr>\n",
       "  </tbody>\n",
       "</table>\n",
       "</div>"
      ],
      "text/plain": [
       "                                          Title  \\\n",
       "81956  Revani (gâteau de semoule turc au sirop)   \n",
       "81957                 Salade d'oranges du Maroc   \n",
       "81958          Muffins au thé vert et gingembre   \n",
       "81959                 Salade d'oranges du Maroc   \n",
       "81960          Muffins au thé vert et gingembre   \n",
       "\n",
       "                                             Ingredients WorkingOrder  \\\n",
       "81956  oeuf,verre yaourt nature,verre d'huile,verre f...      Dessert   \n",
       "81957   orange,sachet pruneau,Eau fleur d'oranger,Amande      Dessert   \n",
       "81958   farine, sucre, beurre demi sel,cl lait,oeuf,s...      Dessert   \n",
       "81959   orange,sachet pruneau,Eau fleur d'oranger,Amande      Dessert   \n",
       "81960   farine, sucre, beurre demi sel,cl lait,oeuf,s...      Dessert   \n",
       "\n",
       "                                                     Url  \\\n",
       "81956  https://www.marmiton.org/recettes/recette_reva...   \n",
       "81957  https://www.marmiton.org/recettes/recette_sala...   \n",
       "81958  https://www.marmiton.org/recettes/recette_muff...   \n",
       "81959  https://www.marmiton.org/recettes/recette_sala...   \n",
       "81960  https://www.marmiton.org/recettes/recette_muff...   \n",
       "\n",
       "                                              PictureUrl  \n",
       "81956  https://image.afcdn.com/recipe/20140814/828_w4...  \n",
       "81957  https://image.afcdn.com/recipe/20140814/61613_...  \n",
       "81958  https://image.afcdn.com/recipe/20100120/47186_...  \n",
       "81959  https://image.afcdn.com/recipe/20140814/61613_...  \n",
       "81960  https://image.afcdn.com/recipe/20100120/47186_...  "
      ]
     },
     "execution_count": 60,
     "metadata": {},
     "output_type": "execute_result"
    }
   ],
   "source": [
    "df1.tail()"
   ]
  },
  {
   "cell_type": "code",
   "execution_count": 61,
   "metadata": {},
   "outputs": [],
   "source": [
    "# convert this pandas DF to dict format and create a json file\n",
    "df1dict=df1.to_dict()"
   ]
  },
  {
   "cell_type": "code",
   "execution_count": 62,
   "metadata": {},
   "outputs": [],
   "source": [
    "# create a json file and name it ' dataMarmiton.json'\n",
    "import json\n",
    "with open('dataMarmiton.json', 'w') as outfile:\n",
    "    json.dump(df1dict, outfile)"
   ]
  }
 ],
 "metadata": {
  "kernelspec": {
   "display_name": "Python 3",
   "language": "python",
   "name": "python3"
  },
  "language_info": {
   "codemirror_mode": {
    "name": "ipython",
    "version": 3
   },
   "file_extension": ".py",
   "mimetype": "text/x-python",
   "name": "python",
   "nbconvert_exporter": "python",
   "pygments_lexer": "ipython3",
   "version": "3.6.1"
  }
 },
 "nbformat": 4,
 "nbformat_minor": 2
}
