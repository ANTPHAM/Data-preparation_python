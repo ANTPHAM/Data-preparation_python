{
 "cells": [
  {
   "cell_type": "markdown",
   "metadata": {},
   "source": [
    "This job will be using the library \"google-images-dowload\" to dowload images in order to buid a training set \n",
    "\n",
    "https://github.com/hardikvasa/google-images-download\n",
    "\n"
   ]
  },
  {
   "cell_type": "markdown",
   "metadata": {},
   "source": [
    "Attention: \n",
    "\n",
    "In order t o dowload more than 100 images, it is necessary to get installed \"chromedriver\" and modify the python file founded in the library as following\n",
    "\n",
    "- install chromedriver\n",
    "\n",
    "- set up the path to chromedriver in system variable environnement\n",
    "\n",
    "- open the source code .py in the library google-images-download\n",
    "\n",
    "- add the below line of code ( on the row 816 for example): \n",
    "\n",
    "arguments['chromedriver'] = \".\\\\AppData\\\\Local\\\\chromedriver.exe\"\n",
    "\n",
    "\n",
    "See : https://github.com/hardikvasa/google-images-download/issues/110\n"
   ]
  },
  {
   "cell_type": "code",
   "execution_count": 1,
   "metadata": {},
   "outputs": [
    {
     "name": "stdout",
     "output_type": "stream",
     "text": [
      "C:\\Users\\Pham Antoine\\Desktop\\ToGit\\getOCRtrain_data\n"
     ]
    }
   ],
   "source": [
    "cd C:\\Users\\Pham Antoine\\Desktop\\ToGit\\getOCRtrain_data"
   ]
  },
  {
   "cell_type": "code",
   "execution_count": 2,
   "metadata": {},
   "outputs": [
    {
     "name": "stdout",
     "output_type": "stream",
     "text": [
      "50\n"
     ]
    }
   ],
   "source": [
    "number_of_images_to_dowload= input()"
   ]
  },
  {
   "cell_type": "code",
   "execution_count": 3,
   "metadata": {},
   "outputs": [
    {
     "name": "stdout",
     "output_type": "stream",
     "text": [
      "\n",
      "Item no.: 1 --> Item name = carte restaurant\n",
      "Evaluating...\n",
      "Starting Download...\n",
      "Image URL: http://lestilleuls.com/wp-content/uploads/2018/09/page-ap%C3%A9ritifs-entr%C3%A9es.jpg\n",
      "Completed Image ====> 1. page-ap%c3%a9ritifs-entr%c3%a9es.jpg\n",
      "Image URL: http://www.lefrance.net/images/statique/carte-restaurant-2.jpg\n",
      "Completed Image ====> 2. carte-restaurant-2.jpg\n",
      "Image URL: https://media-cdn.tripadvisor.com/media/photo-s/05/6d/df/20/l-entracte-restaurant.jpg\n",
      "Completed Image ====> 3. l-entracte-restaurant.jpg\n",
      "Image URL: http://www.lechaland.fr/wp-content/uploads/sites/74/2015/05/00-carte-Avril-2018-web.jpg\n",
      "Completed Image ====> 4. 00-carte-avril-2018-web.jpg\n",
      "Image URL: http://www.lavieillechouette.fr/wp-content/uploads/2014/11/carte.jpg\n",
      "Completed Image ====> 5. carte.jpg\n",
      "Image URL: http://www.lefrance.net/images/statique/carte-restaurant-3.jpg\n",
      "Completed Image ====> 6. carte-restaurant-3.jpg\n",
      "Image URL: http://cdn.ou-dejeuner.com/establishment/menu/original/30300-beaucaire/auberge-restaurant-l-amandin_77221_a7e.jpg\n",
      "Completed Image ====> 7. auberge-restaurant-l-amandin_77221_a7e.jpg\n",
      "Image URL: http://www.laventure-paris.com/wp-content/uploads/2014/05/carte-restaurant-1-1024x708.png\n",
      "Completed Image ====> 8. carte-restaurant-1-1024x708.png\n",
      "Image URL: https://bds-restaurant.fr/wp-content/uploads/2018/04/bds-restaurant-rennes-burgers-afterwork-menu.jpg\n",
      "Completed Image ====> 9. bds-restaurant-rennes-burgers-afterwork-menu.jpg\n",
      "Image URL: http://www.chez-josephine.fr/wp-content/uploads/2013/10/Menu-%C3%A0-la-carte-Restaurant-Chez-Jos%C3%A9phine.png\n",
      "Completed Image ====> 10. menu-%c3%a0-la-carte-restaurant-chez-jos%c3%a9phine.png\n",
      "Image URL: http://www.restaurant-la-medina.fr/images/carte-pdf1.jpg\n",
      "Completed Image ====> 11. carte-pdf1.jpg\n",
      "Image URL: https://www.le-peak.fr/wp-content/uploads/2016/08/carte-restaurant-le-peak-2016.jpg\n",
      "Completed Image ====> 12. carte-restaurant-le-peak-2016.jpg\n",
      "Image URL: https://media-cdn.tripadvisor.com/media/photo-s/0a/5e/df/f9/carte-du-restaurant.jpg\n",
      "Completed Image ====> 13. carte-du-restaurant.jpg\n",
      "Image URL: http://www.hippodrome-toulouse.com/images/2016/02/28/carte-restaurant-panoramique-2016-02-26.png\n",
      "Completed Image ====> 14. carte-restaurant-panoramique-2016-02-26.png\n",
      "Image URL: http://www.niort.chez-arnolds.com/_/rsrc/1476469953849/carte-a-emporter/carte%20%C3%A0%20emporter.png\n",
      "Completed Image ====> 15. carte%20%c3%a0%20emporter.png\n",
      "Image URL: https://www.restaurant-samoens.fr/wp-content/uploads/2017/12/menu-vins_Page_1.jpg\n",
      "Completed Image ====> 16. menu-vins_page_1.jpg\n",
      "Image URL: http://www.copy22creation.com/article/produit/photo/dossier38//CREPDPROMENADES_carte-1.jpg\n",
      "Completed Image ====> 17. crepdpromenades_carte-1.jpg\n",
      "Image URL: https://www.restaurant-lerock.com/wp-content/uploads/2017/01/carte-hyeres-toulon-juin-2017-article-blog.jpg\n",
      "Completed Image ====> 18. carte-hyeres-toulon-juin-2017-article-blog.jpg\n",
      "Image URL: http://www.chez-josephine.fr/wp-content/uploads/2013/02/Carte-des-boissons-interieure.png\n",
      "Completed Image ====> 19. carte-des-boissons-interieure.png\n",
      "Image URL: http://latavernebavaroise.fr/wp-content/uploads/2017/03/Carte-menu-2017-1.jpg\n",
      "Completed Image ====> 20. carte-menu-2017-1.jpg\n",
      "Image URL: http://www.restaurant-trinquette-port-cros.fr/wp-content/uploads/2012/03/la_carte_restaura_la_trinquette_port_cros_mini-520x260.png\n",
      "Completed Image ====> 21. la_carte_restaura_la_trinquette_port_cros_mini-520x260.png\n",
      "Image URL: http://www.restaurantlesolarium.fr/wp-content/uploads/2018/07/pancarte-entr%C3%A9e-restaurant.jpg\n",
      "Completed Image ====> 22. pancarte-entr%c3%a9e-restaurant.jpg\n",
      "Image URL: http://www.escale-letouquet.com/wp-content/uploads/2017/08/restaurant-lescale-letouquet-Carte1-Juillet2017-724x1024.jpg\n",
      "Completed Image ====> 23. restaurant-lescale-letouquet-carte1-juillet2017-724x1024.jpg\n",
      "Image URL: http://reussiteultime.com/wp-content/uploads/2014/02/carte-restaurant.jpg\n",
      "Completed Image ====> 24. carte-restaurant.jpg\n",
      "Image URL: http://cdn.ou-dejeuner.com/establishment/menu/original/01400-chatillon-sur-chalaronne/restaurant-carlino_73067_caa.jpg\n",
      "Completed Image ====> 25. restaurant-carlino_73067_caa.jpg\n",
      "Image URL: http://www.bonscopains.fr/wp-content/uploads/2013/11/carte-menu-tapas-restaurant-strasbourg.jpg\n",
      "Completed Image ====> 26. carte-menu-tapas-restaurant-strasbourg.jpg\n",
      "Image URL: https://www.restaurant-le-caprice.fr/wp-content/uploads/sites/4618/2017/07/entrees.png\n",
      "Completed Image ====> 27. entrees.png\n",
      "Image URL: https://media-cdn.tripadvisor.com/media/photo-s/0d/0a/7e/66/la-carte-du-restaurant.jpg\n",
      "Completed Image ====> 28. la-carte-du-restaurant.jpg\n",
      "Image URL: http://www.intermade-brasserie.fr/wp-content/uploads/2016/03/ENTREES1.png\n",
      "Completed Image ====> 29. entrees1.png\n",
      "Image URL: https://www.b52lyon.com/site/images/normal/VISUELCARTEMIDIpng_58aef08682e8e.png\n",
      "Completed Image ====> 30. visuelcartemidipng\n",
      "Image URL: http://www.oasis-du-berry.com/image/menu-restaurant-saint-gaultier-1.jpg\n",
      "Completed Image ====> 31. menu-restaurant-saint-gaultier-1.jpg\n",
      "Image URL: http://bizzartclub.com/wp-content/uploads/2016/08/Carte-menu-bizzart-site-1.jpg\n",
      "Completed Image ====> 32. carte-menu-bizzart-site-1.jpg\n",
      "Image URL: http://www.labrasserie-gardanne.com/wp-content/uploads/2015/11/menu.jpg\n",
      "Completed Image ====> 33. menu.jpg\n",
      "Image URL: https://www.camping-lapiboure.com/wp-content/uploads/2016/04/Petite-carte-week-end-copyright.jpg\n",
      "Completed Image ====> 34. petite-carte-week-end-copyright.jpg\n",
      "Image URL: https://oaformation.com/wp-content/uploads/2017/07/fixer-prix-et-tarif-au-restaurant-sur-menu.jpg\n",
      "Completed Image ====> 35. fixer-prix-et-tarif-au-restaurant-sur-menu.jpg\n",
      "Image URL: https://media-cdn.tripadvisor.com/media/photo-s/06/31/3b/84/le-danton.jpg\n",
      "Completed Image ====> 36. le-danton.jpg\n",
      "Image URL: https://www.lebelvue.com/wp-content/uploads/2015/12/carte.jpg\n",
      "Completed Image ====> 37. carte.jpg\n",
      "Image URL: http://www.letanganyika.com/images/menu.jpg\n",
      "Completed Image ====> 38. menu.jpg\n",
      "Image URL: https://lopera-restaurant.fr/wp-content/uploads/2018/02/carte-de-la-st-valentin-lOpera-Restaurant.jpeg\n",
      "Completed Image ====> 39. carte-de-la-st-valentin-lopera-restaurant.jpeg\n",
      "Image URL: http://www.petit-lezard.fr/carte/carte-1.jpg\n",
      "Completed Image ====> 40. carte-1.jpg\n",
      "Image URL: http://menusetservices.com/media/g_vignette/872/1-volet.jpg\n",
      "Completed Image ====> 41. 1-volet.jpg\n",
      "Image URL: http://www.lotusdor.com/wp-content/uploads/2013/10/emporter2017.jpg\n",
      "Completed Image ====> 42. emporter2017.jpg\n",
      "Image URL: http://www.restaurantmiamiprime.com/wp-content/uploads/Viandes.jpg\n",
      "Completed Image ====> 43. viandes.jpg\n",
      "Image URL: http://www.atabula.com/wp-content/uploads/2012/10/Carte-restaurant.jpg\n",
      "Completed Image ====> 44. carte-restaurant.jpg\n",
      "Image URL: http://www.biogolfe.org/wp-content/uploads/2017/10/carte-g%C3%A9n%C3%A9rale-Kinoa-Bio-Golfe.jpg\n",
      "Completed Image ====> 45. carte-g%c3%a9n%c3%a9rale-kinoa-bio-golfe.jpg\n",
      "Image URL: https://i2.wp.com/www.hellodisneyland.com/menus-restaurants/2018/disneyland-paris-menus-restaurants-captain-jacks-restaurant-pirates-3.jpg?w=1140&ssl=1\n",
      "Completed Image ====> 46. disneyland-paris-menus-restaurants-captain-jacks-restaurant-pirates-3.jpg\n",
      "Image URL: https://cafejatte.com/images/docs/icone/menu-mars-carte-mets-vins-03-2016-pdf.jpg\n",
      "Completed Image ====> 47. menu-mars-carte-mets-vins-03-2016-pdf.jpg\n",
      "Image URL: https://lebhv85.files.wordpress.com/2016/11/menu2.png?w=748\n",
      "Completed Image ====> 48. menu2.png\n",
      "Image URL: http://www.lecaprizzio-restaurant.com/wp-content/uploads/2016/01/1939_Caprizzio_Cergy_Menu_122017_002.jpg\n",
      "Completed Image ====> 49. 1939_caprizzio_cergy_menu_122017_002.jpg\n",
      "Image URL: http://www.la-cuisine-des-sentiments.com/images/carte-restaurant-la-cuisine-des-sentiments-20180131.jpg\n",
      "Completed Image ====> 50. carte-restaurant-la-cuisine-des-sentiments-20180131.jpg\n",
      "\n",
      "Errors: 0\n",
      "\n"
     ]
    }
   ],
   "source": [
    "from google_images_download import google_images_download   #importing the library\n",
    "\n",
    "response = google_images_download.googleimagesdownload()   #class instantiation\n",
    "\n",
    "arguments = {\"keywords\":\"carte restaurant\",\"limit\":number_of_images_to_dowload,\"print_urls\":True}   #creating list of arguments\n",
    "paths = response.download(arguments)   #passing the arguments to the function"
   ]
  }
 ],
 "metadata": {
  "kernelspec": {
   "display_name": "Python 3",
   "language": "python",
   "name": "python3"
  },
  "language_info": {
   "codemirror_mode": {
    "name": "ipython",
    "version": 3
   },
   "file_extension": ".py",
   "mimetype": "text/x-python",
   "name": "python",
   "nbconvert_exporter": "python",
   "pygments_lexer": "ipython3",
   "version": "3.6.1"
  }
 },
 "nbformat": 4,
 "nbformat_minor": 2
}
