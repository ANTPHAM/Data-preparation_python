{
 "cells": [
  {
   "cell_type": "markdown",
   "metadata": {},
   "source": [
    "   #        Data Preparation For Training Tasks"
   ]
  },
  {
   "cell_type": "markdown",
   "metadata": {},
   "source": [
    "Ce script permettra de travailler avec itération sur les fichiers stockés dans un répertoire nommé \" train_images\". \n",
    "\n",
    "Il s'agit des images prises sur  des cartes de différents restaurants.\n",
    "\n",
    "Les formats de ces images peuvent être divers: .jpeg;  .png ; .pdf; Certaines cartes sont présentées par 2 images avec 2 formats différents( pdf et jpeg par example).\n",
    "\n",
    "Collectées de différentes sources, ces  images portent des tittres qui ne respectent pour l'instant aucune règle. \n",
    "\n",
    "Ce scrip va permettre dans un premier temps de numéroter les titres des images pour facilliter  tout travail de modélisation.\n",
    "\n"
   ]
  },
  {
   "cell_type": "code",
   "execution_count": 1,
   "metadata": {},
   "outputs": [],
   "source": [
    "import re\n",
    "import os\n",
    "import pandas as pd\n",
    "import numpy as np"
   ]
  },
  {
   "cell_type": "code",
   "execution_count": 2,
   "metadata": {},
   "outputs": [
    {
     "name": "stdout",
     "output_type": "stream",
     "text": [
      "C:\\Users\\Pham Antoine\\Desktop\\ToGit\\Data_Preparation_Python\\getOCRtrain_data\\downloads - Copy\\carte restaurant\n"
     ]
    }
   ],
   "source": [
    "# indiquer le chemin qui va au répertoire où les textes sont stockés\n",
    "%cd C:\\Users\\Pham Antoine\\Desktop\\ToGit\\Data_Preparation_Python\\getOCRtrain_data\\downloads - Copy\\carte restaurant"
   ]
  },
  {
   "cell_type": "markdown",
   "metadata": {},
   "source": [
    "Voici le code à exécuter pour collecter les données stockés dans des différents fichiers textex et les mettre sous forme d'un Data Frame"
   ]
  },
  {
   "cell_type": "code",
   "execution_count": 3,
   "metadata": {},
   "outputs": [
    {
     "name": "stdout",
     "output_type": "stream",
     "text": [
      "['96. cartes-pass-restaurant-3c-4c_650x500.png', '97. capture-d%e2%80%99%c3%a9cran-2015-03-02-%c3%a0-15.56.40.png', '98. thermes-de-l-avenue-menu-restaurant-carte1-automne-2018.jpg']\n"
     ]
    }
   ],
   "source": [
    "actual_dir = os.getcwd()\n",
    "dir_tree = os.walk(actual_dir)\n",
    "for dirpath, dirnames, filenames in dir_tree:\n",
    "    print(filenames[-3:])\n",
    "    pass\n",
    "file2change = []\n",
    "for file in filenames:\n",
    "    for j in ['jpeg', 'pdf', 'jpg', 'png', 'gif', 'JPG']:\n",
    "        if file.endswith(j):\n",
    "            file2change.append(file)"
   ]
  },
  {
   "cell_type": "code",
   "execution_count": 4,
   "metadata": {},
   "outputs": [
    {
     "data": {
      "text/plain": [
       "['96. cartes-pass-restaurant-3c-4c_650x500.png',\n",
       " '97. capture-d%e2%80%99%c3%a9cran-2015-03-02-%c3%a0-15.56.40.png',\n",
       " '98. thermes-de-l-avenue-menu-restaurant-carte1-automne-2018.jpg']"
      ]
     },
     "execution_count": 4,
     "metadata": {},
     "output_type": "execute_result"
    }
   ],
   "source": [
    "file2change[-3:]"
   ]
  },
  {
   "cell_type": "code",
   "execution_count": 5,
   "metadata": {},
   "outputs": [
    {
     "name": "stdout",
     "output_type": "stream",
     "text": [
      " There are 98 files in the directory\n"
     ]
    }
   ],
   "source": [
    "print(\" There are %d files in the directory\" %len(file2change))"
   ]
  },
  {
   "cell_type": "code",
   "execution_count": 6,
   "metadata": {},
   "outputs": [],
   "source": [
    "old_name=[]# original name2change of images\n",
    "imf=[]# format of the images\n",
    "for file in file2change:\n",
    "    for fmt in ['.jpeg', '.pdf', '.jpg', '.png', '.gif', '.JPG']:\n",
    "        if file.endswith(fmt):\n",
    "            t=\"\".join(re.findall(r'(.+?)%s' % fmt,file))\n",
    "            f=\"\".join(fmt)\n",
    "            old_name.append(t)\n",
    "            imf.append(f)\n",
    "    "
   ]
  },
  {
   "cell_type": "code",
   "execution_count": 7,
   "metadata": {},
   "outputs": [
    {
     "data": {
      "text/plain": [
       "['1. page-ap%c3%a9ritifs-entr%c3%a9es',\n",
       " '10. menu-%c3%a0-la-carte-restaurant-chez-jos%c3%a9phine']"
      ]
     },
     "execution_count": 7,
     "metadata": {},
     "output_type": "execute_result"
    }
   ],
   "source": [
    "old_name[:2]"
   ]
  },
  {
   "cell_type": "code",
   "execution_count": 8,
   "metadata": {},
   "outputs": [
    {
     "data": {
      "text/plain": [
       "97"
      ]
     },
     "execution_count": 8,
     "metadata": {},
     "output_type": "execute_result"
    }
   ],
   "source": [
    "len(old_name)"
   ]
  },
  {
   "cell_type": "code",
   "execution_count": 9,
   "metadata": {},
   "outputs": [
    {
     "data": {
      "text/plain": [
       "['.jpg', '.png']"
      ]
     },
     "execution_count": 9,
     "metadata": {},
     "output_type": "execute_result"
    }
   ],
   "source": [
    "imf[:2]"
   ]
  },
  {
   "cell_type": "code",
   "execution_count": 10,
   "metadata": {},
   "outputs": [
    {
     "data": {
      "text/plain": [
       "97"
      ]
     },
     "execution_count": 10,
     "metadata": {},
     "output_type": "execute_result"
    }
   ],
   "source": [
    "len(imf)"
   ]
  },
  {
   "cell_type": "code",
   "execution_count": 11,
   "metadata": {},
   "outputs": [],
   "source": [
    "u_name2change=list(np.unique(old_name))# to group same images which are represented under different formats"
   ]
  },
  {
   "cell_type": "code",
   "execution_count": 12,
   "metadata": {},
   "outputs": [
    {
     "name": "stdout",
     "output_type": "stream",
     "text": [
      "There are 97 unique images in the directory\n"
     ]
    }
   ],
   "source": [
    "print( \"There are %d unique images in the directory\" %len(u_name2change))"
   ]
  },
  {
   "cell_type": "code",
   "execution_count": 13,
   "metadata": {},
   "outputs": [],
   "source": [
    "# assigning to each image in \"old_name\" the index of the same image in \"u_name2change\"; by the way, 2 indentical images will have the same index\n",
    "num_name2change=[]\n",
    "for i in range(len(old_name)):\n",
    "    for j in range(len(u_name2change)):\n",
    "        if old_name[i] == u_name2change[j]:\n",
    "            num_name2change.append(j)"
   ]
  },
  {
   "cell_type": "code",
   "execution_count": 14,
   "metadata": {},
   "outputs": [
    {
     "name": "stdout",
     "output_type": "stream",
     "text": [
      "[95, 96]\n"
     ]
    }
   ],
   "source": [
    "print(num_name2change[-2:])            "
   ]
  },
  {
   "cell_type": "code",
   "execution_count": 15,
   "metadata": {},
   "outputs": [],
   "source": [
    "# create the new name of images\n",
    "new_name=[str(i) + j for i,j in zip(num_name2change, imf)]"
   ]
  },
  {
   "cell_type": "code",
   "execution_count": 16,
   "metadata": {},
   "outputs": [
    {
     "data": {
      "text/plain": [
       "97"
      ]
     },
     "execution_count": 16,
     "metadata": {},
     "output_type": "execute_result"
    }
   ],
   "source": [
    "len(new_name)"
   ]
  },
  {
   "cell_type": "code",
   "execution_count": 17,
   "metadata": {},
   "outputs": [
    {
     "name": "stdout",
     "output_type": "stream",
     "text": [
      "Old names of the 2 first images in the directorey: 1. page-ap%c3%a9ritifs-entr%c3%a9es.jpg and 10. menu-%c3%a0-la-carte-restaurant-chez-jos%c3%a9phine.png\n"
     ]
    }
   ],
   "source": [
    "print(\"Old names of the 2 first images in the directorey: {} and {}\".format(file2change[0], file2change[1]))"
   ]
  },
  {
   "cell_type": "code",
   "execution_count": 18,
   "metadata": {},
   "outputs": [
    {
     "name": "stdout",
     "output_type": "stream",
     "text": [
      "New names of these images are: 0.jpg and 1.png\n"
     ]
    }
   ],
   "source": [
    "print(\"New names of these images are: {} and {}\".format(new_name[0], new_name[1]))"
   ]
  },
  {
   "cell_type": "code",
   "execution_count": 19,
   "metadata": {},
   "outputs": [
    {
     "name": "stdout",
     "output_type": "stream",
     "text": [
      "No file anymore as required in the directory\n"
     ]
    }
   ],
   "source": [
    "try:\n",
    "    for file in filenames:\n",
    "        if file in file2change:\n",
    "            k=int(file2change.index(file))\n",
    "            os.rename(file,new_name[k])\n",
    "except:\n",
    "    print(\"No file anymore as required in the directory\")\n"
   ]
  }
 ],
 "metadata": {
  "kernelspec": {
   "display_name": "Python 3",
   "language": "python",
   "name": "python3"
  },
  "language_info": {
   "codemirror_mode": {
    "name": "ipython",
    "version": 3
   },
   "file_extension": ".py",
   "mimetype": "text/x-python",
   "name": "python",
   "nbconvert_exporter": "python",
   "pygments_lexer": "ipython3",
   "version": "3.6.1"
  }
 },
 "nbformat": 4,
 "nbformat_minor": 2
}
